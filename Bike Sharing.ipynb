{
 "cells": [
  {
   "cell_type": "markdown",
   "id": "9a71bd75",
   "metadata": {},
   "source": [
    "<h1 style = \"color : Brown\"> Bike Sharing Assignment </h1>"
   ]
  },
  {
   "cell_type": "markdown",
   "id": "633673b1",
   "metadata": {},
   "source": [
    "## * Problem Statement:\n",
    "\n",
    "A US bike-sharing provider BoomBikes has recently suffered considerable dips in their revenues due to the ongoing Corona pandemic. The company is finding it very difficult to sustain in the current market scenario.In such an attempt, BoomBikes aspires to understand the demand for shared bikes among the people after this ongoing quarantine situation ends across the nation due to Covid-19. They have planned this to prepare themselves to cater to the people's needs once the situation gets better all around and stand out from other service providers and make huge profits.\n",
    "\n",
    "## * Questions:\n",
    "\n",
    "- Which variables are significant in predicting the demand for shared bikes.\n",
    "- How well those variables describe the bike demands.\n",
    "\n",
    "## * Business Goal:\n",
    "\n",
    "- Develop a model to find the variables which are significant the demand for shared bikes with the available independent variables.\n",
    "- It will be used by the management to understand and manipulate the business strategy to meet the demand levels and meet the customer's expectations."
   ]
  },
  {
   "cell_type": "markdown",
   "id": "c2f44858",
   "metadata": {},
   "source": [
    "## 1. Importing Libraries"
   ]
  },
  {
   "cell_type": "code",
   "execution_count": 1,
   "id": "bb525eb5",
   "metadata": {},
   "outputs": [],
   "source": [
    "# imporitng the required packages\n",
    "import numpy as np\n",
    "import pandas as pd\n",
    "import matplotlib.pyplot as plt\n",
    "import seaborn as sns\n",
    "\n",
    "from sklearn.model_selection import train_test_split\n",
    "from sklearn.preprocessing import StandardScaler\n",
    "from sklearn.preprocessing import MinMaxScaler\n",
    "from sklearn.feature_selection import RFE\n",
    "from sklearn.linear_model import LinearRegression\n",
    "from sklearn.metrics import r2_score\n",
    "import statsmodels.api as sm\n",
    "from statsmodels.stats.outliers_influence import variance_inflation_factor\n",
    "\n",
    "import warnings\n",
    "warnings.filterwarnings(\"ignore\")"
   ]
  },
  {
   "cell_type": "markdown",
   "id": "7ab4b27d",
   "metadata": {},
   "source": [
    "## 2. Reading Dataset and Understanding Data"
   ]
  },
  {
   "cell_type": "code",
   "execution_count": 2,
   "id": "34db355d",
   "metadata": {},
   "outputs": [],
   "source": [
    "# Read the csv file using pandas\n",
    "bs = pd.read_csv('day.csv')"
   ]
  },
  {
   "cell_type": "code",
   "execution_count": 3,
   "id": "ebe883d7",
   "metadata": {},
   "outputs": [
    {
     "data": {
      "text/html": [
       "<div>\n",
       "<style scoped>\n",
       "    .dataframe tbody tr th:only-of-type {\n",
       "        vertical-align: middle;\n",
       "    }\n",
       "\n",
       "    .dataframe tbody tr th {\n",
       "        vertical-align: top;\n",
       "    }\n",
       "\n",
       "    .dataframe thead th {\n",
       "        text-align: right;\n",
       "    }\n",
       "</style>\n",
       "<table border=\"1\" class=\"dataframe\">\n",
       "  <thead>\n",
       "    <tr style=\"text-align: right;\">\n",
       "      <th></th>\n",
       "      <th>instant</th>\n",
       "      <th>dteday</th>\n",
       "      <th>season</th>\n",
       "      <th>yr</th>\n",
       "      <th>mnth</th>\n",
       "      <th>holiday</th>\n",
       "      <th>weekday</th>\n",
       "      <th>workingday</th>\n",
       "      <th>weathersit</th>\n",
       "      <th>temp</th>\n",
       "      <th>atemp</th>\n",
       "      <th>hum</th>\n",
       "      <th>windspeed</th>\n",
       "      <th>casual</th>\n",
       "      <th>registered</th>\n",
       "      <th>cnt</th>\n",
       "    </tr>\n",
       "  </thead>\n",
       "  <tbody>\n",
       "    <tr>\n",
       "      <th>0</th>\n",
       "      <td>1</td>\n",
       "      <td>01-01-2018</td>\n",
       "      <td>1</td>\n",
       "      <td>0</td>\n",
       "      <td>1</td>\n",
       "      <td>0</td>\n",
       "      <td>1</td>\n",
       "      <td>1</td>\n",
       "      <td>2</td>\n",
       "      <td>14.110847</td>\n",
       "      <td>18.18125</td>\n",
       "      <td>80.5833</td>\n",
       "      <td>10.749882</td>\n",
       "      <td>331</td>\n",
       "      <td>654</td>\n",
       "      <td>985</td>\n",
       "    </tr>\n",
       "    <tr>\n",
       "      <th>1</th>\n",
       "      <td>2</td>\n",
       "      <td>02-01-2018</td>\n",
       "      <td>1</td>\n",
       "      <td>0</td>\n",
       "      <td>1</td>\n",
       "      <td>0</td>\n",
       "      <td>2</td>\n",
       "      <td>1</td>\n",
       "      <td>2</td>\n",
       "      <td>14.902598</td>\n",
       "      <td>17.68695</td>\n",
       "      <td>69.6087</td>\n",
       "      <td>16.652113</td>\n",
       "      <td>131</td>\n",
       "      <td>670</td>\n",
       "      <td>801</td>\n",
       "    </tr>\n",
       "    <tr>\n",
       "      <th>2</th>\n",
       "      <td>3</td>\n",
       "      <td>03-01-2018</td>\n",
       "      <td>1</td>\n",
       "      <td>0</td>\n",
       "      <td>1</td>\n",
       "      <td>0</td>\n",
       "      <td>3</td>\n",
       "      <td>1</td>\n",
       "      <td>1</td>\n",
       "      <td>8.050924</td>\n",
       "      <td>9.47025</td>\n",
       "      <td>43.7273</td>\n",
       "      <td>16.636703</td>\n",
       "      <td>120</td>\n",
       "      <td>1229</td>\n",
       "      <td>1349</td>\n",
       "    </tr>\n",
       "    <tr>\n",
       "      <th>3</th>\n",
       "      <td>4</td>\n",
       "      <td>04-01-2018</td>\n",
       "      <td>1</td>\n",
       "      <td>0</td>\n",
       "      <td>1</td>\n",
       "      <td>0</td>\n",
       "      <td>4</td>\n",
       "      <td>1</td>\n",
       "      <td>1</td>\n",
       "      <td>8.200000</td>\n",
       "      <td>10.60610</td>\n",
       "      <td>59.0435</td>\n",
       "      <td>10.739832</td>\n",
       "      <td>108</td>\n",
       "      <td>1454</td>\n",
       "      <td>1562</td>\n",
       "    </tr>\n",
       "    <tr>\n",
       "      <th>4</th>\n",
       "      <td>5</td>\n",
       "      <td>05-01-2018</td>\n",
       "      <td>1</td>\n",
       "      <td>0</td>\n",
       "      <td>1</td>\n",
       "      <td>0</td>\n",
       "      <td>5</td>\n",
       "      <td>1</td>\n",
       "      <td>1</td>\n",
       "      <td>9.305237</td>\n",
       "      <td>11.46350</td>\n",
       "      <td>43.6957</td>\n",
       "      <td>12.522300</td>\n",
       "      <td>82</td>\n",
       "      <td>1518</td>\n",
       "      <td>1600</td>\n",
       "    </tr>\n",
       "  </tbody>\n",
       "</table>\n",
       "</div>"
      ],
      "text/plain": [
       "   instant      dteday  season  yr  mnth  holiday  weekday  workingday  \\\n",
       "0        1  01-01-2018       1   0     1        0        1           1   \n",
       "1        2  02-01-2018       1   0     1        0        2           1   \n",
       "2        3  03-01-2018       1   0     1        0        3           1   \n",
       "3        4  04-01-2018       1   0     1        0        4           1   \n",
       "4        5  05-01-2018       1   0     1        0        5           1   \n",
       "\n",
       "   weathersit       temp     atemp      hum  windspeed  casual  registered  \\\n",
       "0           2  14.110847  18.18125  80.5833  10.749882     331         654   \n",
       "1           2  14.902598  17.68695  69.6087  16.652113     131         670   \n",
       "2           1   8.050924   9.47025  43.7273  16.636703     120        1229   \n",
       "3           1   8.200000  10.60610  59.0435  10.739832     108        1454   \n",
       "4           1   9.305237  11.46350  43.6957  12.522300      82        1518   \n",
       "\n",
       "    cnt  \n",
       "0   985  \n",
       "1   801  \n",
       "2  1349  \n",
       "3  1562  \n",
       "4  1600  "
      ]
     },
     "execution_count": 3,
     "metadata": {},
     "output_type": "execute_result"
    }
   ],
   "source": [
    "# Inspect first few rows\n",
    "bs.head()"
   ]
  },
  {
   "cell_type": "code",
   "execution_count": 4,
   "id": "2d0830a5",
   "metadata": {},
   "outputs": [
    {
     "data": {
      "text/plain": [
       "(730, 16)"
      ]
     },
     "execution_count": 4,
     "metadata": {},
     "output_type": "execute_result"
    }
   ],
   "source": [
    "# check the shape\n",
    "bs.shape"
   ]
  },
  {
   "cell_type": "markdown",
   "id": "cf31975d",
   "metadata": {},
   "source": [
    "#### `Inference`\n",
    "So, There are __730 Rows__ &__16 Columns__."
   ]
  },
  {
   "cell_type": "code",
   "execution_count": 5,
   "id": "660dc8cf",
   "metadata": {},
   "outputs": [
    {
     "name": "stdout",
     "output_type": "stream",
     "text": [
      "<class 'pandas.core.frame.DataFrame'>\n",
      "RangeIndex: 730 entries, 0 to 729\n",
      "Data columns (total 16 columns):\n",
      " #   Column      Non-Null Count  Dtype  \n",
      "---  ------      --------------  -----  \n",
      " 0   instant     730 non-null    int64  \n",
      " 1   dteday      730 non-null    object \n",
      " 2   season      730 non-null    int64  \n",
      " 3   yr          730 non-null    int64  \n",
      " 4   mnth        730 non-null    int64  \n",
      " 5   holiday     730 non-null    int64  \n",
      " 6   weekday     730 non-null    int64  \n",
      " 7   workingday  730 non-null    int64  \n",
      " 8   weathersit  730 non-null    int64  \n",
      " 9   temp        730 non-null    float64\n",
      " 10  atemp       730 non-null    float64\n",
      " 11  hum         730 non-null    float64\n",
      " 12  windspeed   730 non-null    float64\n",
      " 13  casual      730 non-null    int64  \n",
      " 14  registered  730 non-null    int64  \n",
      " 15  cnt         730 non-null    int64  \n",
      "dtypes: float64(4), int64(11), object(1)\n",
      "memory usage: 91.4+ KB\n"
     ]
    }
   ],
   "source": [
    "# check the null values and data type\n",
    "bs.info()"
   ]
  },
  {
   "cell_type": "markdown",
   "id": "04631d65",
   "metadata": {},
   "source": [
    "#### `Inference`\n",
    "\n",
    "So, There are __no null__ Values"
   ]
  },
  {
   "cell_type": "markdown",
   "id": "44fe1665",
   "metadata": {},
   "source": [
    "## 3. Cleaning Data"
   ]
  },
  {
   "cell_type": "markdown",
   "id": "b314c2cb",
   "metadata": {},
   "source": [
    "### 3.1 Dropping irrelevent columns:"
   ]
  },
  {
   "cell_type": "markdown",
   "id": "9ef00235",
   "metadata": {},
   "source": [
    "- __instant__ is just a row instance identifier."
   ]
  },
  {
   "cell_type": "code",
   "execution_count": 6,
   "id": "b5206e29",
   "metadata": {},
   "outputs": [],
   "source": [
    "# Dropping instance column\n",
    "\n",
    "bs.drop(['instant'], axis = 1, inplace = True)"
   ]
  },
  {
   "cell_type": "code",
   "execution_count": 7,
   "id": "bd86b682",
   "metadata": {
    "scrolled": true
   },
   "outputs": [
    {
     "name": "stdout",
     "output_type": "stream",
     "text": [
      "<class 'pandas.core.frame.DataFrame'>\n",
      "RangeIndex: 730 entries, 0 to 729\n",
      "Data columns (total 15 columns):\n",
      " #   Column      Non-Null Count  Dtype  \n",
      "---  ------      --------------  -----  \n",
      " 0   dteday      730 non-null    object \n",
      " 1   season      730 non-null    int64  \n",
      " 2   yr          730 non-null    int64  \n",
      " 3   mnth        730 non-null    int64  \n",
      " 4   holiday     730 non-null    int64  \n",
      " 5   weekday     730 non-null    int64  \n",
      " 6   workingday  730 non-null    int64  \n",
      " 7   weathersit  730 non-null    int64  \n",
      " 8   temp        730 non-null    float64\n",
      " 9   atemp       730 non-null    float64\n",
      " 10  hum         730 non-null    float64\n",
      " 11  windspeed   730 non-null    float64\n",
      " 12  casual      730 non-null    int64  \n",
      " 13  registered  730 non-null    int64  \n",
      " 14  cnt         730 non-null    int64  \n",
      "dtypes: float64(4), int64(10), object(1)\n",
      "memory usage: 85.7+ KB\n"
     ]
    }
   ],
   "source": [
    "# Verify instance column\n",
    "\n",
    "bs.info()"
   ]
  },
  {
   "cell_type": "markdown",
   "id": "705e06ef",
   "metadata": {},
   "source": [
    "### 3.2 Dropping unimportant variable / redundant:"
   ]
  },
  {
   "cell_type": "markdown",
   "id": "04e8f214",
   "metadata": {},
   "source": [
    "- __dteday__ Already extracted the required information. \n",
    "- __atemp__ multicolumn with __temp__\n",
    "- __casual__ and __registered__ because __cnt__ = __casual + registered__"
   ]
  },
  {
   "cell_type": "code",
   "execution_count": 8,
   "id": "8eb81fb2",
   "metadata": {},
   "outputs": [],
   "source": [
    "# Dropping instance column\n",
    "\n",
    "bs.drop(['dteday'], axis = 1, inplace = True)"
   ]
  },
  {
   "cell_type": "code",
   "execution_count": 9,
   "id": "8576ca3e",
   "metadata": {},
   "outputs": [],
   "source": [
    "# Dropping atemp column\n",
    "\n",
    "bs.drop(['atemp'], axis = 1, inplace = True)"
   ]
  },
  {
   "cell_type": "code",
   "execution_count": 10,
   "id": "619e6b5e",
   "metadata": {},
   "outputs": [],
   "source": [
    "# Dropping casual and registered columns\n",
    "\n",
    "bs.drop(['casual'], axis = 1, inplace = True)\n",
    "bs.drop(['registered'], axis = 1, inplace = True)"
   ]
  },
  {
   "cell_type": "code",
   "execution_count": 11,
   "id": "1566d8fa",
   "metadata": {
    "scrolled": true
   },
   "outputs": [
    {
     "name": "stdout",
     "output_type": "stream",
     "text": [
      "<class 'pandas.core.frame.DataFrame'>\n",
      "RangeIndex: 730 entries, 0 to 729\n",
      "Data columns (total 11 columns):\n",
      " #   Column      Non-Null Count  Dtype  \n",
      "---  ------      --------------  -----  \n",
      " 0   season      730 non-null    int64  \n",
      " 1   yr          730 non-null    int64  \n",
      " 2   mnth        730 non-null    int64  \n",
      " 3   holiday     730 non-null    int64  \n",
      " 4   weekday     730 non-null    int64  \n",
      " 5   workingday  730 non-null    int64  \n",
      " 6   weathersit  730 non-null    int64  \n",
      " 7   temp        730 non-null    float64\n",
      " 8   hum         730 non-null    float64\n",
      " 9   windspeed   730 non-null    float64\n",
      " 10  cnt         730 non-null    int64  \n",
      "dtypes: float64(3), int64(8)\n",
      "memory usage: 62.9 KB\n"
     ]
    }
   ],
   "source": [
    "# Verify Dropped columns: \n",
    "\n",
    "bs.info()"
   ]
  },
  {
   "cell_type": "code",
   "execution_count": 12,
   "id": "18da8214",
   "metadata": {},
   "outputs": [
    {
     "data": {
      "text/html": [
       "<div>\n",
       "<style scoped>\n",
       "    .dataframe tbody tr th:only-of-type {\n",
       "        vertical-align: middle;\n",
       "    }\n",
       "\n",
       "    .dataframe tbody tr th {\n",
       "        vertical-align: top;\n",
       "    }\n",
       "\n",
       "    .dataframe thead th {\n",
       "        text-align: right;\n",
       "    }\n",
       "</style>\n",
       "<table border=\"1\" class=\"dataframe\">\n",
       "  <thead>\n",
       "    <tr style=\"text-align: right;\">\n",
       "      <th></th>\n",
       "      <th>season</th>\n",
       "      <th>yr</th>\n",
       "      <th>mnth</th>\n",
       "      <th>holiday</th>\n",
       "      <th>weekday</th>\n",
       "      <th>workingday</th>\n",
       "      <th>weathersit</th>\n",
       "      <th>temp</th>\n",
       "      <th>hum</th>\n",
       "      <th>windspeed</th>\n",
       "      <th>cnt</th>\n",
       "    </tr>\n",
       "  </thead>\n",
       "  <tbody>\n",
       "    <tr>\n",
       "      <th>0</th>\n",
       "      <td>1</td>\n",
       "      <td>0</td>\n",
       "      <td>1</td>\n",
       "      <td>0</td>\n",
       "      <td>1</td>\n",
       "      <td>1</td>\n",
       "      <td>2</td>\n",
       "      <td>14.110847</td>\n",
       "      <td>80.5833</td>\n",
       "      <td>10.749882</td>\n",
       "      <td>985</td>\n",
       "    </tr>\n",
       "    <tr>\n",
       "      <th>1</th>\n",
       "      <td>1</td>\n",
       "      <td>0</td>\n",
       "      <td>1</td>\n",
       "      <td>0</td>\n",
       "      <td>2</td>\n",
       "      <td>1</td>\n",
       "      <td>2</td>\n",
       "      <td>14.902598</td>\n",
       "      <td>69.6087</td>\n",
       "      <td>16.652113</td>\n",
       "      <td>801</td>\n",
       "    </tr>\n",
       "    <tr>\n",
       "      <th>2</th>\n",
       "      <td>1</td>\n",
       "      <td>0</td>\n",
       "      <td>1</td>\n",
       "      <td>0</td>\n",
       "      <td>3</td>\n",
       "      <td>1</td>\n",
       "      <td>1</td>\n",
       "      <td>8.050924</td>\n",
       "      <td>43.7273</td>\n",
       "      <td>16.636703</td>\n",
       "      <td>1349</td>\n",
       "    </tr>\n",
       "    <tr>\n",
       "      <th>3</th>\n",
       "      <td>1</td>\n",
       "      <td>0</td>\n",
       "      <td>1</td>\n",
       "      <td>0</td>\n",
       "      <td>4</td>\n",
       "      <td>1</td>\n",
       "      <td>1</td>\n",
       "      <td>8.200000</td>\n",
       "      <td>59.0435</td>\n",
       "      <td>10.739832</td>\n",
       "      <td>1562</td>\n",
       "    </tr>\n",
       "    <tr>\n",
       "      <th>4</th>\n",
       "      <td>1</td>\n",
       "      <td>0</td>\n",
       "      <td>1</td>\n",
       "      <td>0</td>\n",
       "      <td>5</td>\n",
       "      <td>1</td>\n",
       "      <td>1</td>\n",
       "      <td>9.305237</td>\n",
       "      <td>43.6957</td>\n",
       "      <td>12.522300</td>\n",
       "      <td>1600</td>\n",
       "    </tr>\n",
       "  </tbody>\n",
       "</table>\n",
       "</div>"
      ],
      "text/plain": [
       "   season  yr  mnth  holiday  weekday  workingday  weathersit       temp  \\\n",
       "0       1   0     1        0        1           1           2  14.110847   \n",
       "1       1   0     1        0        2           1           2  14.902598   \n",
       "2       1   0     1        0        3           1           1   8.050924   \n",
       "3       1   0     1        0        4           1           1   8.200000   \n",
       "4       1   0     1        0        5           1           1   9.305237   \n",
       "\n",
       "       hum  windspeed   cnt  \n",
       "0  80.5833  10.749882   985  \n",
       "1  69.6087  16.652113   801  \n",
       "2  43.7273  16.636703  1349  \n",
       "3  59.0435  10.739832  1562  \n",
       "4  43.6957  12.522300  1600  "
      ]
     },
     "execution_count": 12,
     "metadata": {},
     "output_type": "execute_result"
    }
   ],
   "source": [
    "# Check head of the columns: \n",
    "\n",
    "bs.head()"
   ]
  },
  {
   "cell_type": "markdown",
   "id": "875cfc8c",
   "metadata": {},
   "source": [
    "### 3.3 Outliers checking: "
   ]
  },
  {
   "cell_type": "code",
   "execution_count": 13,
   "id": "2a8aeaee",
   "metadata": {
    "scrolled": false
   },
   "outputs": [
    {
     "data": {
      "image/png": "[encoded data removed]",
      "text/plain": [
       "<Figure size 1440x504 with 3 Axes>"
      ]
     },
     "metadata": {
      "needs_background": "light"
     },
     "output_type": "display_data"
    }
   ],
   "source": [
    "# temp\n",
    "\n",
    "plt.figure(figsize=[20,7])\n",
    "\n",
    "plt.subplot(1,3,1)\n",
    "sns.boxplot(data=bs, y=\"temp\")\n",
    "plt.title(\"Temprature \", fontdict={\"fontsize\":18, \"color\":\"Brown\"})\n",
    "\n",
    "# hum\n",
    "\n",
    "plt.subplot(1,3,2)\n",
    "\n",
    "sns.boxplot(data=bs, y=\"hum\")\n",
    "plt.title(\"Humidity\", fontdict={\"fontsize\":18, \"color\":\"Brown\"})\n",
    "\n",
    "# cnt\n",
    "\n",
    "plt.subplot(1,3,3)\n",
    "sns.boxplot(data=bs, y=\"cnt\")\n",
    "plt.title(\"Counts of order\", fontdict={\"fontsize\":18, \"color\":\"Brown\"})\n",
    "plt.show()"
   ]
  },
  {
   "cell_type": "markdown",
   "id": "9e7e09db",
   "metadata": {},
   "source": [
    "#### `Inference`\n",
    "    From these plots, we can see there are no outliers to be handled."
   ]
  },
  {
   "cell_type": "markdown",
   "id": "bf4c4387",
   "metadata": {},
   "source": [
    "# 4. EDA"
   ]
  },
  {
   "cell_type": "markdown",
   "id": "d946af65",
   "metadata": {},
   "source": [
    "## 4.1 Understanding the variable type: "
   ]
  },
  {
   "cell_type": "markdown",
   "id": "fb4d3fe8",
   "metadata": {},
   "source": [
    "    - Binary      : yr, holiday, workingday\n",
    "    - Categorical : season, weekday, mnth, weathersit\n",
    "    - Numerical   : temp, hum, windspeed, cnt"
   ]
  },
  {
   "cell_type": "markdown",
   "id": "76dc4889",
   "metadata": {},
   "source": [
    "## 4.2 Univariate Analysis: "
   ]
  },
  {
   "cell_type": "code",
   "execution_count": 14,
   "id": "29ab54c4",
   "metadata": {},
   "outputs": [
    {
     "data": {
      "image/png": "[encoded data removed]",
      "text/plain": [
       "<Figure size 504x504 with 1 Axes>"
      ]
     },
     "metadata": {},
     "output_type": "display_data"
    }
   ],
   "source": [
    "# weathersit\n",
    "\n",
    "w_x = bs.weathersit.value_counts()\n",
    "labels = ['Clear', 'Mist + Cloudy', 'light Rain']\n",
    "\n",
    "plt.figure(figsize=[7,7])\n",
    "plt.pie(w_x, labels=labels)\n",
    "plt.title(\"Weathersit\", fontdict={\"fontsize\":18, \"color\":\"Brown\"})\n",
    "plt.legend()\n",
    "plt.show()"
   ]
  },
  {
   "cell_type": "markdown",
   "id": "b75eaa94",
   "metadata": {},
   "source": [
    "#### `Inference`\n",
    "    It means in Clear Weather number of orders are more than Rainy Weather\n",
    "    "
   ]
  },
  {
   "cell_type": "markdown",
   "id": "bc268a77",
   "metadata": {},
   "source": [
    "## 4.3 Bivariate Analysis: "
   ]
  },
  {
   "cell_type": "code",
   "execution_count": 15,
   "id": "7ee72203",
   "metadata": {
    "scrolled": false
   },
   "outputs": [
    {
     "data": {
      "image/png": "[encoded data removed]",
      "text/plain": [
       "<Figure size 1440x504 with 3 Axes>"
      ]
     },
     "metadata": {
      "needs_background": "light"
     },
     "output_type": "display_data"
    }
   ],
   "source": [
    "# season vs cnt:\n",
    "\n",
    "plt.figure(figsize=[20,7])\n",
    "\n",
    "plt.subplot(1,3,1)\n",
    "sns.barplot(data=bs, x=\"season\", y=\"cnt\")\n",
    "plt.xticks([0,1,2,3],[\"spring\",\"summer\",\"fall\",\"winter\"])\n",
    "plt.xticks(rotation= 45)\n",
    "plt.title(\"Season Vs Number of Orders\", fontdict={\"fontsize\":18, \"color\":\"Brown\"})\n",
    "\n",
    "# mnth vs cnt:\n",
    "\n",
    "plt.subplot(1,3,2)\n",
    "\n",
    "sns.barplot(data=bs, x=\"mnth\", y=\"cnt\")\n",
    "plt.xticks([0,1,2,3,4,5,6,7,8,9,10,11],['jan', 'feb', 'mar', 'apr', 'may', 'jun', 'jul', 'aug', 'sept', 'oct', 'nov', 'dec'])\n",
    "plt.xticks(rotation= 45)\n",
    "plt.title(\"Month Vs Number of Orders\", fontdict={\"fontsize\":18, \"color\":\"Brown\"})\n",
    "\n",
    "# yr vs cnt:\n",
    "\n",
    "plt.subplot(1,3,3)\n",
    "sns.barplot(data=bs, x=\"yr\", y=\"cnt\")\n",
    "plt.xticks([0,1],[2018,2019])\n",
    "plt.title(\"Year Vs Number of Orders\", fontdict={\"fontsize\":18, \"color\":\"Brown\"})\n",
    "\n",
    "plt.show()"
   ]
  },
  {
   "cell_type": "markdown",
   "id": "9602af29",
   "metadata": {},
   "source": [
    "#### `Inference`    \n",
    "    - In Autumn(fall) season there are highest no. of order gets counted.\n",
    "    - In Sept month there are highest number of order gets counted & in Jan there are lower number of order gets counted. By starting the year orders are increasing and from october orders are decreasing.\n",
    "    - We can see no. of order increase in 2019 compare to 2018    "
   ]
  },
  {
   "cell_type": "code",
   "execution_count": 16,
   "id": "ef8df841",
   "metadata": {},
   "outputs": [
    {
     "data": {
      "image/png": "[encoded data removed]",
      "text/plain": [
       "<Figure size 1440x504 with 3 Axes>"
      ]
     },
     "metadata": {
      "needs_background": "light"
     },
     "output_type": "display_data"
    }
   ],
   "source": [
    "# holiday vs cnt:\n",
    "\n",
    "plt.figure(figsize=[20,7])\n",
    "\n",
    "plt.subplot(1,3,1)\n",
    "sns.boxplot(data=bs, x=\"holiday\", y=\"cnt\")\n",
    "plt.xticks([0,1],[\"Yes\",\"No\"])\n",
    "plt.title(\"Holiday Vs Number of Orders\", fontdict={\"fontsize\":18, \"color\":\"Brown\"})\n",
    "\n",
    "# weekday vs cnt:\n",
    "\n",
    "plt.subplot(1,3,2)\n",
    "sns.boxplot(data=bs, x=\"weekday\", y=\"cnt\")\n",
    "plt.xticks([0,1,2,3,4,5,6],['sun', 'mon', 'tue', 'wed', 'thu', 'fri', 'sat'])\n",
    "plt.xticks(rotation= 45)\n",
    "plt.title(\"Weekday Vs Number of Orders\", fontdict={\"fontsize\":18, \"color\":\"Brown\"})\n",
    "\n",
    "# workingday vs cnt:\n",
    "\n",
    "plt.subplot(1,3,3)\n",
    "sns.boxplot(data=bs, x=\"workingday\", y=\"cnt\")\n",
    "plt.xticks([0,1],[\"Weekend / Holiday\", \"Regular Day\"])\n",
    "plt.title(\"Workingday Vs Number of Orders\", fontdict={\"fontsize\":18, \"color\":\"Brown\"})\n",
    "\n",
    "\n",
    "plt.show()"
   ]
  },
  {
   "cell_type": "markdown",
   "id": "0b9b6881",
   "metadata": {},
   "source": [
    "#### `Inference`    \n",
    "    - In Holidays number of orders Decreased.\n",
    "    - For weekday there are nothing can differentiate."
   ]
  },
  {
   "cell_type": "markdown",
   "id": "36b081b6",
   "metadata": {},
   "source": [
    "## 4.4 Linear Regression: "
   ]
  },
  {
   "cell_type": "code",
   "execution_count": 17,
   "id": "37778977",
   "metadata": {},
   "outputs": [
    {
     "data": {
      "image/png": "[encoded data removed]",
      "text/plain": [
       "<Figure size 1440x504 with 3 Axes>"
      ]
     },
     "metadata": {
      "needs_background": "light"
     },
     "output_type": "display_data"
    }
   ],
   "source": [
    "# cnt vs temp:\n",
    "\n",
    "plt.figure(figsize=[20,7])\n",
    "\n",
    "plt.subplot(1,3,1)\n",
    "sns.regplot(data=bs, x=\"temp\", y=\"cnt\", line_kws={\"color\": \"red\"})\n",
    "plt.xlabel(\"Temperature \")\n",
    "plt.title(\"Number of Orders Vs Temperature\", fontdict={\"fontsize\":18, \"color\":\"Brown\"})\n",
    "\n",
    "# cnt vs hum:\n",
    "\n",
    "plt.subplot(1,3,2)\n",
    "sns.regplot(data=bs, x=\"hum\", y=\"cnt\", line_kws={\"color\": \"red\"})\n",
    "plt.xlabel(\"Humidity\")\n",
    "plt.title(\"Number of Orders Vs Humidity\", fontdict={\"fontsize\":18, \"color\":\"Brown\"})\n",
    "\n",
    "# cnt vs windspeed:\n",
    "\n",
    "plt.subplot(1,3,3)\n",
    "sns.regplot(data=bs, x=\"windspeed\", y=\"cnt\", line_kws={\"color\": \"red\"})\n",
    "plt.xlabel(\"Windspeed\")\n",
    "plt.title(\"Number of Orders Vs Windspeed\", fontdict={\"fontsize\":18, \"color\":\"Brown\"})\n",
    "\n",
    "plt.show()"
   ]
  },
  {
   "cell_type": "markdown",
   "id": "34533aae",
   "metadata": {},
   "source": [
    "#### `Inference`    \n",
    "    - Number of Orders are positively correlated to temp.\n",
    "    - Number of Orders is linearly increasing with Temperature  indicating linear relation.\n",
    "    - Increasing the Humidity Number of Orders are Decreasing\n",
    "    - Increasing the Windspeed Number of Orders are Decreasing \n",
    "    \n",
    "so, We can say that __Number of Orders are maters weather condition__."
   ]
  },
  {
   "cell_type": "markdown",
   "id": "be2475d6",
   "metadata": {},
   "source": [
    "# 5. Converting categorical variables to the right format"
   ]
  },
  {
   "cell_type": "code",
   "execution_count": 18,
   "id": "94e58b51",
   "metadata": {},
   "outputs": [],
   "source": [
    "# season\n",
    "\n",
    "bs.season.replace({1:\"spring\",\n",
    "                   2:\"summer\",\n",
    "                   3:\"fall\",\n",
    "                   4:\"winter\"},inplace = True)\n",
    "bs = pd.get_dummies(data=bs, columns=[\"season\"])"
   ]
  },
  {
   "cell_type": "code",
   "execution_count": 19,
   "id": "69228765",
   "metadata": {},
   "outputs": [
    {
     "name": "stdout",
     "output_type": "stream",
     "text": [
      "<class 'pandas.core.frame.DataFrame'>\n",
      "RangeIndex: 730 entries, 0 to 729\n",
      "Data columns (total 14 columns):\n",
      " #   Column         Non-Null Count  Dtype  \n",
      "---  ------         --------------  -----  \n",
      " 0   yr             730 non-null    int64  \n",
      " 1   mnth           730 non-null    int64  \n",
      " 2   holiday        730 non-null    int64  \n",
      " 3   weekday        730 non-null    int64  \n",
      " 4   workingday     730 non-null    int64  \n",
      " 5   weathersit     730 non-null    int64  \n",
      " 6   temp           730 non-null    float64\n",
      " 7   hum            730 non-null    float64\n",
      " 8   windspeed      730 non-null    float64\n",
      " 9   cnt            730 non-null    int64  \n",
      " 10  season_fall    730 non-null    uint8  \n",
      " 11  season_spring  730 non-null    uint8  \n",
      " 12  season_summer  730 non-null    uint8  \n",
      " 13  season_winter  730 non-null    uint8  \n",
      "dtypes: float64(3), int64(7), uint8(4)\n",
      "memory usage: 60.0 KB\n"
     ]
    }
   ],
   "source": [
    "bs.info()"
   ]
  },
  {
   "cell_type": "code",
   "execution_count": 20,
   "id": "c0eae54e",
   "metadata": {},
   "outputs": [],
   "source": [
    "# weathersit\n",
    "\n",
    "bs.weathersit.replace({1:'good',\n",
    "                       2:'moderate',\n",
    "                       3:'bad',\n",
    "                       4:'severe'},inplace = True)\n",
    "bs = pd.get_dummies(data=bs, columns=[\"weathersit\"])"
   ]
  },
  {
   "cell_type": "code",
   "execution_count": 21,
   "id": "0b5fe4db",
   "metadata": {},
   "outputs": [
    {
     "name": "stdout",
     "output_type": "stream",
     "text": [
      "<class 'pandas.core.frame.DataFrame'>\n",
      "RangeIndex: 730 entries, 0 to 729\n",
      "Data columns (total 16 columns):\n",
      " #   Column               Non-Null Count  Dtype  \n",
      "---  ------               --------------  -----  \n",
      " 0   yr                   730 non-null    int64  \n",
      " 1   mnth                 730 non-null    int64  \n",
      " 2   holiday              730 non-null    int64  \n",
      " 3   weekday              730 non-null    int64  \n",
      " 4   workingday           730 non-null    int64  \n",
      " 5   temp                 730 non-null    float64\n",
      " 6   hum                  730 non-null    float64\n",
      " 7   windspeed            730 non-null    float64\n",
      " 8   cnt                  730 non-null    int64  \n",
      " 9   season_fall          730 non-null    uint8  \n",
      " 10  season_spring        730 non-null    uint8  \n",
      " 11  season_summer        730 non-null    uint8  \n",
      " 12  season_winter        730 non-null    uint8  \n",
      " 13  weathersit_bad       730 non-null    uint8  \n",
      " 14  weathersit_good      730 non-null    uint8  \n",
      " 15  weathersit_moderate  730 non-null    uint8  \n",
      "dtypes: float64(3), int64(6), uint8(7)\n",
      "memory usage: 56.4 KB\n"
     ]
    }
   ],
   "source": [
    "bs.info()"
   ]
  },
  {
   "cell_type": "code",
   "execution_count": 22,
   "id": "7f0ad87b",
   "metadata": {},
   "outputs": [],
   "source": [
    "# mnth\n",
    "\n",
    "bs.mnth.replace({1: 'jan',\n",
    "                 2: 'feb',\n",
    "                 3: 'mar',\n",
    "                 4: 'apr',\n",
    "                 5: 'may',\n",
    "                 6: 'jun',\n",
    "                 7: 'jul',\n",
    "                 8: 'aug',\n",
    "                 9: 'sept',\n",
    "                 10: 'oct',\n",
    "                 11: 'nov',\n",
    "                 12: 'dec'},inplace = True)\n",
    "bs = pd.get_dummies(data=bs, columns=[\"mnth\"])"
   ]
  },
  {
   "cell_type": "code",
   "execution_count": 23,
   "id": "ec25d92c",
   "metadata": {},
   "outputs": [
    {
     "name": "stdout",
     "output_type": "stream",
     "text": [
      "<class 'pandas.core.frame.DataFrame'>\n",
      "RangeIndex: 730 entries, 0 to 729\n",
      "Data columns (total 27 columns):\n",
      " #   Column               Non-Null Count  Dtype  \n",
      "---  ------               --------------  -----  \n",
      " 0   yr                   730 non-null    int64  \n",
      " 1   holiday              730 non-null    int64  \n",
      " 2   weekday              730 non-null    int64  \n",
      " 3   workingday           730 non-null    int64  \n",
      " 4   temp                 730 non-null    float64\n",
      " 5   hum                  730 non-null    float64\n",
      " 6   windspeed            730 non-null    float64\n",
      " 7   cnt                  730 non-null    int64  \n",
      " 8   season_fall          730 non-null    uint8  \n",
      " 9   season_spring        730 non-null    uint8  \n",
      " 10  season_summer        730 non-null    uint8  \n",
      " 11  season_winter        730 non-null    uint8  \n",
      " 12  weathersit_bad       730 non-null    uint8  \n",
      " 13  weathersit_good      730 non-null    uint8  \n",
      " 14  weathersit_moderate  730 non-null    uint8  \n",
      " 15  mnth_apr             730 non-null    uint8  \n",
      " 16  mnth_aug             730 non-null    uint8  \n",
      " 17  mnth_dec             730 non-null    uint8  \n",
      " 18  mnth_feb             730 non-null    uint8  \n",
      " 19  mnth_jan             730 non-null    uint8  \n",
      " 20  mnth_jul             730 non-null    uint8  \n",
      " 21  mnth_jun             730 non-null    uint8  \n",
      " 22  mnth_mar             730 non-null    uint8  \n",
      " 23  mnth_may             730 non-null    uint8  \n",
      " 24  mnth_nov             730 non-null    uint8  \n",
      " 25  mnth_oct             730 non-null    uint8  \n",
      " 26  mnth_sept            730 non-null    uint8  \n",
      "dtypes: float64(3), int64(5), uint8(19)\n",
      "memory usage: 59.3 KB\n"
     ]
    }
   ],
   "source": [
    "bs.info()"
   ]
  },
  {
   "cell_type": "code",
   "execution_count": 24,
   "id": "7ae18e89",
   "metadata": {},
   "outputs": [],
   "source": [
    "# weekday\n",
    "\n",
    "bs.weekday.replace({0: 'sun',\n",
    "                    1: 'mon',\n",
    "                    2: 'tue',\n",
    "                    3: 'wed',\n",
    "                    4: 'thu',\n",
    "                    5: 'fri',\n",
    "                    6: 'sat'}, inplace=True)\n",
    "bs = pd.get_dummies(data=bs, columns=[\"weekday\"])"
   ]
  },
  {
   "cell_type": "code",
   "execution_count": 25,
   "id": "6de95924",
   "metadata": {},
   "outputs": [
    {
     "name": "stdout",
     "output_type": "stream",
     "text": [
      "<class 'pandas.core.frame.DataFrame'>\n",
      "RangeIndex: 730 entries, 0 to 729\n",
      "Data columns (total 33 columns):\n",
      " #   Column               Non-Null Count  Dtype  \n",
      "---  ------               --------------  -----  \n",
      " 0   yr                   730 non-null    int64  \n",
      " 1   holiday              730 non-null    int64  \n",
      " 2   workingday           730 non-null    int64  \n",
      " 3   temp                 730 non-null    float64\n",
      " 4   hum                  730 non-null    float64\n",
      " 5   windspeed            730 non-null    float64\n",
      " 6   cnt                  730 non-null    int64  \n",
      " 7   season_fall          730 non-null    uint8  \n",
      " 8   season_spring        730 non-null    uint8  \n",
      " 9   season_summer        730 non-null    uint8  \n",
      " 10  season_winter        730 non-null    uint8  \n",
      " 11  weathersit_bad       730 non-null    uint8  \n",
      " 12  weathersit_good      730 non-null    uint8  \n",
      " 13  weathersit_moderate  730 non-null    uint8  \n",
      " 14  mnth_apr             730 non-null    uint8  \n",
      " 15  mnth_aug             730 non-null    uint8  \n",
      " 16  mnth_dec             730 non-null    uint8  \n",
      " 17  mnth_feb             730 non-null    uint8  \n",
      " 18  mnth_jan             730 non-null    uint8  \n",
      " 19  mnth_jul             730 non-null    uint8  \n",
      " 20  mnth_jun             730 non-null    uint8  \n",
      " 21  mnth_mar             730 non-null    uint8  \n",
      " 22  mnth_may             730 non-null    uint8  \n",
      " 23  mnth_nov             730 non-null    uint8  \n",
      " 24  mnth_oct             730 non-null    uint8  \n",
      " 25  mnth_sept            730 non-null    uint8  \n",
      " 26  weekday_fri          730 non-null    uint8  \n",
      " 27  weekday_mon          730 non-null    uint8  \n",
      " 28  weekday_sat          730 non-null    uint8  \n",
      " 29  weekday_sun          730 non-null    uint8  \n",
      " 30  weekday_thu          730 non-null    uint8  \n",
      " 31  weekday_tue          730 non-null    uint8  \n",
      " 32  weekday_wed          730 non-null    uint8  \n",
      "dtypes: float64(3), int64(4), uint8(26)\n",
      "memory usage: 58.6 KB\n"
     ]
    }
   ],
   "source": [
    "bs.info()"
   ]
  },
  {
   "cell_type": "code",
   "execution_count": 26,
   "id": "54971fc6",
   "metadata": {},
   "outputs": [
    {
     "data": {
      "text/html": [
       "<div>\n",
       "<style scoped>\n",
       "    .dataframe tbody tr th:only-of-type {\n",
       "        vertical-align: middle;\n",
       "    }\n",
       "\n",
       "    .dataframe tbody tr th {\n",
       "        vertical-align: top;\n",
       "    }\n",
       "\n",
       "    .dataframe thead th {\n",
       "        text-align: right;\n",
       "    }\n",
       "</style>\n",
       "<table border=\"1\" class=\"dataframe\">\n",
       "  <thead>\n",
       "    <tr style=\"text-align: right;\">\n",
       "      <th></th>\n",
       "      <th>yr</th>\n",
       "      <th>holiday</th>\n",
       "      <th>workingday</th>\n",
       "      <th>temp</th>\n",
       "      <th>hum</th>\n",
       "      <th>windspeed</th>\n",
       "      <th>cnt</th>\n",
       "      <th>season_fall</th>\n",
       "      <th>season_spring</th>\n",
       "      <th>season_summer</th>\n",
       "      <th>season_winter</th>\n",
       "      <th>weathersit_bad</th>\n",
       "      <th>weathersit_good</th>\n",
       "      <th>weathersit_moderate</th>\n",
       "      <th>mnth_apr</th>\n",
       "      <th>mnth_aug</th>\n",
       "      <th>mnth_dec</th>\n",
       "      <th>mnth_feb</th>\n",
       "      <th>mnth_jan</th>\n",
       "      <th>mnth_jul</th>\n",
       "      <th>mnth_jun</th>\n",
       "      <th>mnth_mar</th>\n",
       "      <th>mnth_may</th>\n",
       "      <th>mnth_nov</th>\n",
       "      <th>mnth_oct</th>\n",
       "      <th>mnth_sept</th>\n",
       "      <th>weekday_fri</th>\n",
       "      <th>weekday_mon</th>\n",
       "      <th>weekday_sat</th>\n",
       "      <th>weekday_sun</th>\n",
       "      <th>weekday_thu</th>\n",
       "      <th>weekday_tue</th>\n",
       "      <th>weekday_wed</th>\n",
       "    </tr>\n",
       "  </thead>\n",
       "  <tbody>\n",
       "    <tr>\n",
       "      <th>0</th>\n",
       "      <td>0</td>\n",
       "      <td>0</td>\n",
       "      <td>1</td>\n",
       "      <td>14.110847</td>\n",
       "      <td>80.5833</td>\n",
       "      <td>10.749882</td>\n",
       "      <td>985</td>\n",
       "      <td>0</td>\n",
       "      <td>1</td>\n",
       "      <td>0</td>\n",
       "      <td>0</td>\n",
       "      <td>0</td>\n",
       "      <td>0</td>\n",
       "      <td>1</td>\n",
       "      <td>0</td>\n",
       "      <td>0</td>\n",
       "      <td>0</td>\n",
       "      <td>0</td>\n",
       "      <td>1</td>\n",
       "      <td>0</td>\n",
       "      <td>0</td>\n",
       "      <td>0</td>\n",
       "      <td>0</td>\n",
       "      <td>0</td>\n",
       "      <td>0</td>\n",
       "      <td>0</td>\n",
       "      <td>0</td>\n",
       "      <td>1</td>\n",
       "      <td>0</td>\n",
       "      <td>0</td>\n",
       "      <td>0</td>\n",
       "      <td>0</td>\n",
       "      <td>0</td>\n",
       "    </tr>\n",
       "    <tr>\n",
       "      <th>1</th>\n",
       "      <td>0</td>\n",
       "      <td>0</td>\n",
       "      <td>1</td>\n",
       "      <td>14.902598</td>\n",
       "      <td>69.6087</td>\n",
       "      <td>16.652113</td>\n",
       "      <td>801</td>\n",
       "      <td>0</td>\n",
       "      <td>1</td>\n",
       "      <td>0</td>\n",
       "      <td>0</td>\n",
       "      <td>0</td>\n",
       "      <td>0</td>\n",
       "      <td>1</td>\n",
       "      <td>0</td>\n",
       "      <td>0</td>\n",
       "      <td>0</td>\n",
       "      <td>0</td>\n",
       "      <td>1</td>\n",
       "      <td>0</td>\n",
       "      <td>0</td>\n",
       "      <td>0</td>\n",
       "      <td>0</td>\n",
       "      <td>0</td>\n",
       "      <td>0</td>\n",
       "      <td>0</td>\n",
       "      <td>0</td>\n",
       "      <td>0</td>\n",
       "      <td>0</td>\n",
       "      <td>0</td>\n",
       "      <td>0</td>\n",
       "      <td>1</td>\n",
       "      <td>0</td>\n",
       "    </tr>\n",
       "    <tr>\n",
       "      <th>2</th>\n",
       "      <td>0</td>\n",
       "      <td>0</td>\n",
       "      <td>1</td>\n",
       "      <td>8.050924</td>\n",
       "      <td>43.7273</td>\n",
       "      <td>16.636703</td>\n",
       "      <td>1349</td>\n",
       "      <td>0</td>\n",
       "      <td>1</td>\n",
       "      <td>0</td>\n",
       "      <td>0</td>\n",
       "      <td>0</td>\n",
       "      <td>1</td>\n",
       "      <td>0</td>\n",
       "      <td>0</td>\n",
       "      <td>0</td>\n",
       "      <td>0</td>\n",
       "      <td>0</td>\n",
       "      <td>1</td>\n",
       "      <td>0</td>\n",
       "      <td>0</td>\n",
       "      <td>0</td>\n",
       "      <td>0</td>\n",
       "      <td>0</td>\n",
       "      <td>0</td>\n",
       "      <td>0</td>\n",
       "      <td>0</td>\n",
       "      <td>0</td>\n",
       "      <td>0</td>\n",
       "      <td>0</td>\n",
       "      <td>0</td>\n",
       "      <td>0</td>\n",
       "      <td>1</td>\n",
       "    </tr>\n",
       "    <tr>\n",
       "      <th>3</th>\n",
       "      <td>0</td>\n",
       "      <td>0</td>\n",
       "      <td>1</td>\n",
       "      <td>8.200000</td>\n",
       "      <td>59.0435</td>\n",
       "      <td>10.739832</td>\n",
       "      <td>1562</td>\n",
       "      <td>0</td>\n",
       "      <td>1</td>\n",
       "      <td>0</td>\n",
       "      <td>0</td>\n",
       "      <td>0</td>\n",
       "      <td>1</td>\n",
       "      <td>0</td>\n",
       "      <td>0</td>\n",
       "      <td>0</td>\n",
       "      <td>0</td>\n",
       "      <td>0</td>\n",
       "      <td>1</td>\n",
       "      <td>0</td>\n",
       "      <td>0</td>\n",
       "      <td>0</td>\n",
       "      <td>0</td>\n",
       "      <td>0</td>\n",
       "      <td>0</td>\n",
       "      <td>0</td>\n",
       "      <td>0</td>\n",
       "      <td>0</td>\n",
       "      <td>0</td>\n",
       "      <td>0</td>\n",
       "      <td>1</td>\n",
       "      <td>0</td>\n",
       "      <td>0</td>\n",
       "    </tr>\n",
       "    <tr>\n",
       "      <th>4</th>\n",
       "      <td>0</td>\n",
       "      <td>0</td>\n",
       "      <td>1</td>\n",
       "      <td>9.305237</td>\n",
       "      <td>43.6957</td>\n",
       "      <td>12.522300</td>\n",
       "      <td>1600</td>\n",
       "      <td>0</td>\n",
       "      <td>1</td>\n",
       "      <td>0</td>\n",
       "      <td>0</td>\n",
       "      <td>0</td>\n",
       "      <td>1</td>\n",
       "      <td>0</td>\n",
       "      <td>0</td>\n",
       "      <td>0</td>\n",
       "      <td>0</td>\n",
       "      <td>0</td>\n",
       "      <td>1</td>\n",
       "      <td>0</td>\n",
       "      <td>0</td>\n",
       "      <td>0</td>\n",
       "      <td>0</td>\n",
       "      <td>0</td>\n",
       "      <td>0</td>\n",
       "      <td>0</td>\n",
       "      <td>1</td>\n",
       "      <td>0</td>\n",
       "      <td>0</td>\n",
       "      <td>0</td>\n",
       "      <td>0</td>\n",
       "      <td>0</td>\n",
       "      <td>0</td>\n",
       "    </tr>\n",
       "  </tbody>\n",
       "</table>\n",
       "</div>"
      ],
      "text/plain": [
       "   yr  holiday  workingday       temp      hum  windspeed   cnt  season_fall  \\\n",
       "0   0        0           1  14.110847  80.5833  10.749882   985            0   \n",
       "1   0        0           1  14.902598  69.6087  16.652113   801            0   \n",
       "2   0        0           1   8.050924  43.7273  16.636703  1349            0   \n",
       "3   0        0           1   8.200000  59.0435  10.739832  1562            0   \n",
       "4   0        0           1   9.305237  43.6957  12.522300  1600            0   \n",
       "\n",
       "   season_spring  season_summer  season_winter  weathersit_bad  \\\n",
       "0              1              0              0               0   \n",
       "1              1              0              0               0   \n",
       "2              1              0              0               0   \n",
       "3              1              0              0               0   \n",
       "4              1              0              0               0   \n",
       "\n",
       "   weathersit_good  weathersit_moderate  mnth_apr  mnth_aug  mnth_dec  \\\n",
       "0                0                    1         0         0         0   \n",
       "1                0                    1         0         0         0   \n",
       "2                1                    0         0         0         0   \n",
       "3                1                    0         0         0         0   \n",
       "4                1                    0         0         0         0   \n",
       "\n",
       "   mnth_feb  mnth_jan  mnth_jul  mnth_jun  mnth_mar  mnth_may  mnth_nov  \\\n",
       "0         0         1         0         0         0         0         0   \n",
       "1         0         1         0         0         0         0         0   \n",
       "2         0         1         0         0         0         0         0   \n",
       "3         0         1         0         0         0         0         0   \n",
       "4         0         1         0         0         0         0         0   \n",
       "\n",
       "   mnth_oct  mnth_sept  weekday_fri  weekday_mon  weekday_sat  weekday_sun  \\\n",
       "0         0          0            0            1            0            0   \n",
       "1         0          0            0            0            0            0   \n",
       "2         0          0            0            0            0            0   \n",
       "3         0          0            0            0            0            0   \n",
       "4         0          0            1            0            0            0   \n",
       "\n",
       "   weekday_thu  weekday_tue  weekday_wed  \n",
       "0            0            0            0  \n",
       "1            0            1            0  \n",
       "2            0            0            1  \n",
       "3            1            0            0  \n",
       "4            0            0            0  "
      ]
     },
     "execution_count": 26,
     "metadata": {},
     "output_type": "execute_result"
    }
   ],
   "source": [
    "pd.set_option(\"display.max_columns\", None)\n",
    "bs.head()"
   ]
  },
  {
   "cell_type": "code",
   "execution_count": 27,
   "id": "ca01fe74",
   "metadata": {},
   "outputs": [
    {
     "data": {
      "text/plain": [
       "Index(['yr', 'holiday', 'workingday', 'temp', 'hum', 'windspeed', 'cnt',\n",
       "       'season_fall', 'season_spring', 'season_summer', 'season_winter',\n",
       "       'weathersit_bad', 'weathersit_good', 'weathersit_moderate', 'mnth_apr',\n",
       "       'mnth_aug', 'mnth_dec', 'mnth_feb', 'mnth_jan', 'mnth_jul', 'mnth_jun',\n",
       "       'mnth_mar', 'mnth_may', 'mnth_nov', 'mnth_oct', 'mnth_sept',\n",
       "       'weekday_fri', 'weekday_mon', 'weekday_sat', 'weekday_sun',\n",
       "       'weekday_thu', 'weekday_tue', 'weekday_wed'],\n",
       "      dtype='object')"
      ]
     },
     "execution_count": 27,
     "metadata": {},
     "output_type": "execute_result"
    }
   ],
   "source": [
    "bs.columns"
   ]
  },
  {
   "cell_type": "markdown",
   "id": "a4309f4f",
   "metadata": {},
   "source": [
    "# 6. Train and Split"
   ]
  },
  {
   "cell_type": "code",
   "execution_count": 28,
   "id": "15f1ec03",
   "metadata": {},
   "outputs": [],
   "source": [
    "# Determin X and y\n",
    "\n",
    "y = bs.pop(\"cnt\") # y = Target variable\n",
    "X = bs            # X = all variable excluding Target variable"
   ]
  },
  {
   "cell_type": "code",
   "execution_count": 29,
   "id": "7d917830",
   "metadata": {},
   "outputs": [],
   "source": [
    "#Train Test split with 70:30 ratio\n",
    "\n",
    "X_train, X_test, y_train, y_test = train_test_split(X, y, test_size=0.3, random_state=42)"
   ]
  },
  {
   "cell_type": "code",
   "execution_count": 30,
   "id": "be154502",
   "metadata": {},
   "outputs": [
    {
     "data": {
      "text/plain": [
       "(511, 32)"
      ]
     },
     "execution_count": 30,
     "metadata": {},
     "output_type": "execute_result"
    }
   ],
   "source": [
    "# check shape of Train\n",
    "\n",
    "X_train.shape"
   ]
  },
  {
   "cell_type": "code",
   "execution_count": 31,
   "id": "c96a4087",
   "metadata": {},
   "outputs": [
    {
     "data": {
      "text/plain": [
       "(219, 32)"
      ]
     },
     "execution_count": 31,
     "metadata": {},
     "output_type": "execute_result"
    }
   ],
   "source": [
    "# check shape of Test\n",
    "\n",
    "X_test.shape"
   ]
  },
  {
   "cell_type": "markdown",
   "id": "02c59a32",
   "metadata": {},
   "source": [
    "# 7. Scalling"
   ]
  },
  {
   "cell_type": "code",
   "execution_count": 32,
   "id": "4af6a2d8",
   "metadata": {},
   "outputs": [],
   "source": [
    "# scalling continuous variables\n",
    "\n",
    "scal_col = ['temp','hum','windspeed']\n",
    "\n",
    "#Use Normalized scaler to scale\n",
    "\n",
    "scaler = MinMaxScaler()\n",
    "\n",
    "# Fit and transform to training set only\n",
    "X_train[scal_col] = scaler.fit_transform(X_train[scal_col])\n"
   ]
  },
  {
   "cell_type": "code",
   "execution_count": 33,
   "id": "6ef25d88",
   "metadata": {},
   "outputs": [
    {
     "name": "stdout",
     "output_type": "stream",
     "text": [
      "for temp column\n",
      "count    511.000000\n",
      "mean       0.550874\n",
      "std        0.227231\n",
      "min        0.000000\n",
      "25%        0.354221\n",
      "50%        0.575304\n",
      "75%        0.745079\n",
      "max        1.000000\n",
      "Name: temp, dtype: float64\n",
      "\n",
      "for hum column\n",
      "count    511.000000\n",
      "mean       0.654174\n",
      "std        0.143648\n",
      "min        0.000000\n",
      "25%        0.544598\n",
      "50%        0.659940\n",
      "75%        0.756977\n",
      "max        1.000000\n",
      "Name: hum, dtype: float64\n",
      "\n",
      "for windspeed column\n",
      "count    511.000000\n",
      "mean       0.414873\n",
      "std        0.185619\n",
      "min        0.000000\n",
      "25%        0.281934\n",
      "50%        0.384732\n",
      "75%        0.526481\n",
      "max        1.000000\n",
      "Name: windspeed, dtype: float64\n",
      "\n"
     ]
    }
   ],
   "source": [
    "#check scalling columns\n",
    "\n",
    "for i in scal_col:\n",
    "    print(f\"for {i} column\")\n",
    "    print(X_train[i].describe())\n",
    "    print()"
   ]
  },
  {
   "cell_type": "markdown",
   "id": "a7a25206",
   "metadata": {},
   "source": [
    "# 8. Model Building"
   ]
  },
  {
   "cell_type": "markdown",
   "id": "98f8258e",
   "metadata": {},
   "source": [
    "## 8.1 RFE & Automatic approach to drop variable"
   ]
  },
  {
   "cell_type": "code",
   "execution_count": 34,
   "id": "452fbf5b",
   "metadata": {},
   "outputs": [
    {
     "data": {
      "text/plain": [
       "LinearRegression()"
      ]
     },
     "execution_count": 34,
     "metadata": {},
     "output_type": "execute_result"
    }
   ],
   "source": [
    "# Build a Lienar Regression model for RFE\n",
    "\n",
    "lr = LinearRegression()\n",
    "lr.fit(X_train,y_train)"
   ]
  },
  {
   "cell_type": "code",
   "execution_count": 35,
   "id": "d1d6dd56",
   "metadata": {},
   "outputs": [
    {
     "data": {
      "text/plain": [
       "RFE(estimator=LinearRegression(), n_features_to_select=15)"
      ]
     },
     "execution_count": 35,
     "metadata": {},
     "output_type": "execute_result"
    }
   ],
   "source": [
    "# Automated approach to drop variables\n",
    "rfe = RFE(lr,15)          # number of features = 15\n",
    "rfe.fit(X_train,y_train)"
   ]
  },
  {
   "cell_type": "code",
   "execution_count": 36,
   "id": "78d0a479",
   "metadata": {},
   "outputs": [
    {
     "data": {
      "text/plain": [
       "[('yr', True, 1),\n",
       " ('holiday', False, 17),\n",
       " ('workingday', False, 18),\n",
       " ('temp', True, 1),\n",
       " ('hum', True, 1),\n",
       " ('windspeed', True, 1),\n",
       " ('season_fall', False, 7),\n",
       " ('season_spring', True, 1),\n",
       " ('season_summer', False, 6),\n",
       " ('season_winter', True, 1),\n",
       " ('weathersit_bad', True, 1),\n",
       " ('weathersit_good', True, 1),\n",
       " ('weathersit_moderate', True, 1),\n",
       " ('mnth_apr', False, 14),\n",
       " ('mnth_aug', False, 9),\n",
       " ('mnth_dec', True, 1),\n",
       " ('mnth_feb', False, 8),\n",
       " ('mnth_jan', False, 15),\n",
       " ('mnth_jul', True, 1),\n",
       " ('mnth_jun', False, 16),\n",
       " ('mnth_mar', True, 1),\n",
       " ('mnth_may', True, 1),\n",
       " ('mnth_nov', True, 1),\n",
       " ('mnth_oct', False, 2),\n",
       " ('mnth_sept', True, 1),\n",
       " ('weekday_fri', False, 13),\n",
       " ('weekday_mon', False, 3),\n",
       " ('weekday_sat', False, 11),\n",
       " ('weekday_sun', False, 10),\n",
       " ('weekday_thu', False, 12),\n",
       " ('weekday_tue', False, 5),\n",
       " ('weekday_wed', False, 4)]"
      ]
     },
     "execution_count": 36,
     "metadata": {},
     "output_type": "execute_result"
    }
   ],
   "source": [
    "list(zip(X_train.columns,rfe.support_,rfe.ranking_))"
   ]
  },
  {
   "cell_type": "markdown",
   "id": "4b4a5680",
   "metadata": {},
   "source": [
    "## 8.2 Manual approach to drop variable"
   ]
  },
  {
   "cell_type": "code",
   "execution_count": 37,
   "id": "ca01c06f",
   "metadata": {},
   "outputs": [],
   "source": [
    "# Make a Function to build a model\n",
    "# Takes the columns to be selected for model as a parameter\n",
    "\n",
    "def model(cols):\n",
    "    X_train_sm = sm.add_constant(X_train[cols])\n",
    "    lm = sm.OLS(y_train, X_train_sm).fit()\n",
    "    print(lm.summary())\n",
    "    return lm"
   ]
  },
  {
   "cell_type": "code",
   "execution_count": 38,
   "id": "7039767f",
   "metadata": {},
   "outputs": [],
   "source": [
    "# Make a Function to calculate VIFs and print them\n",
    "# Takes the columns for which VIF to be calcualted as a parameter\n",
    "\n",
    "def vif(cols):\n",
    "    df1 = X_train[cols]\n",
    "    vif = pd.DataFrame()\n",
    "    vif['Features'] = df1.columns\n",
    "    vif['VIF'] = [variance_inflation_factor(df1.values, i) for i in range(df1.shape[1])]\n",
    "    vif['VIF'] = round(vif['VIF'],2)\n",
    "    print(vif.sort_values(by='VIF',ascending=False))"
   ]
  },
  {
   "cell_type": "code",
   "execution_count": 39,
   "id": "b0cfb91f",
   "metadata": {},
   "outputs": [
    {
     "data": {
      "text/plain": [
       "Index(['yr', 'temp', 'hum', 'windspeed', 'season_spring', 'season_winter',\n",
       "       'weathersit_bad', 'weathersit_good', 'weathersit_moderate', 'mnth_dec',\n",
       "       'mnth_jul', 'mnth_mar', 'mnth_may', 'mnth_nov', 'mnth_sept'],\n",
       "      dtype='object')"
      ]
     },
     "execution_count": 39,
     "metadata": {},
     "output_type": "execute_result"
    }
   ],
   "source": [
    "# Print Columns selected by RFE\n",
    "# We will start with these columns for manual elimination\n",
    "\n",
    "X_train.columns[rfe.support_]"
   ]
  },
  {
   "cell_type": "code",
   "execution_count": 40,
   "id": "6399b65e",
   "metadata": {},
   "outputs": [
    {
     "data": {
      "text/plain": [
       "Index(['holiday', 'workingday', 'season_fall', 'season_summer', 'mnth_apr',\n",
       "       'mnth_aug', 'mnth_feb', 'mnth_jan', 'mnth_jun', 'mnth_oct',\n",
       "       'weekday_fri', 'weekday_mon', 'weekday_sat', 'weekday_sun',\n",
       "       'weekday_thu', 'weekday_tue', 'weekday_wed'],\n",
       "      dtype='object')"
      ]
     },
     "execution_count": 40,
     "metadata": {},
     "output_type": "execute_result"
    }
   ],
   "source": [
    "# Features not selected by RFE\n",
    "\n",
    "X_train.columns[~rfe.support_]"
   ]
  },
  {
   "cell_type": "code",
   "execution_count": 41,
   "id": "70afa853",
   "metadata": {},
   "outputs": [],
   "source": [
    "# Taking 15 columns supported by RFE for regression\n",
    "\n",
    "X_train_rfe = X_train[['yr', 'temp', 'hum', 'windspeed', 'season_spring', 'season_winter',\n",
    "       'weathersit_bad', 'weathersit_good', 'weathersit_moderate', 'mnth_dec',\n",
    "       'mnth_jul', 'mnth_mar', 'mnth_may', 'mnth_nov', 'mnth_sept']]"
   ]
  },
  {
   "cell_type": "code",
   "execution_count": 42,
   "id": "95c0b2cb",
   "metadata": {
    "scrolled": true
   },
   "outputs": [
    {
     "data": {
      "text/plain": [
       "(511, 15)"
      ]
     },
     "execution_count": 42,
     "metadata": {},
     "output_type": "execute_result"
    }
   ],
   "source": [
    "X_train_rfe.shape"
   ]
  },
  {
   "cell_type": "markdown",
   "id": "9c2632cb",
   "metadata": {},
   "source": [
    "## 8.3 Final Model"
   ]
  },
  {
   "cell_type": "markdown",
   "id": "efcc2508",
   "metadata": {},
   "source": [
    "### Model 1 : Start with RFE supported variables"
   ]
  },
  {
   "cell_type": "code",
   "execution_count": 43,
   "id": "58cfa587",
   "metadata": {},
   "outputs": [
    {
     "name": "stdout",
     "output_type": "stream",
     "text": [
      "                            OLS Regression Results                            \n",
      "==============================================================================\n",
      "Dep. Variable:                    cnt   R-squared:                       0.833\n",
      "Model:                            OLS   Adj. R-squared:                  0.828\n",
      "Method:                 Least Squares   F-statistic:                     165.0\n",
      "Date:                Tue, 12 Jul 2022   Prob (F-statistic):          1.70e-181\n",
      "Time:                        21:37:03   Log-Likelihood:                -4134.9\n",
      "No. Observations:                 511   AIC:                             8302.\n",
      "Df Residuals:                     495   BIC:                             8370.\n",
      "Df Model:                          15                                         \n",
      "Covariance Type:            nonrobust                                         \n",
      "=======================================================================================\n",
      "                          coef    std err          t      P>|t|      [0.025      0.975]\n",
      "---------------------------------------------------------------------------------------\n",
      "const                2809.2461    346.564      8.106      0.000    2128.328    3490.164\n",
      "yr                   1955.0549     72.324     27.032      0.000    1812.955    2097.155\n",
      "holiday              -839.6361    237.519     -3.535      0.000   -1306.306    -372.966\n",
      "workingday           -202.7038    107.596     -1.884      0.060    -414.104       8.697\n",
      "temp                 4233.9838    303.827     13.936      0.000    3637.034    4830.934\n",
      "hum                 -1378.2895    339.821     -4.056      0.000   -2045.959    -710.620\n",
      "windspeed           -1072.6371    210.709     -5.091      0.000   -1486.631    -658.643\n",
      "season_spring        -795.1544    191.300     -4.157      0.000   -1171.014    -419.294\n",
      "season_summer         380.6325    133.154      2.859      0.004     119.015     642.250\n",
      "season_winter         767.1240    151.761      5.055      0.000     468.950    1065.298\n",
      "mnth_jan              -59.8050    156.115     -0.383      0.702    -366.534     246.924\n",
      "mnth_jul             -367.2369    159.579     -2.301      0.022    -680.772     -53.702\n",
      "mnth_sept             666.1046    144.332      4.615      0.000     382.526     949.684\n",
      "weekday_sat           -72.5004    136.440     -0.531      0.595    -340.574     195.573\n",
      "weathersit_bad      -1761.9834    238.533     -7.387      0.000   -2230.645   -1293.322\n",
      "weathersit_moderate  -464.2948     93.779     -4.951      0.000    -648.550    -280.040\n",
      "==============================================================================\n",
      "Omnibus:                       65.698   Durbin-Watson:                   2.095\n",
      "Prob(Omnibus):                  0.000   Jarque-Bera (JB):              125.994\n",
      "Skew:                          -0.750   Prob(JB):                     4.37e-28\n",
      "Kurtosis:                       4.914   Cond. No.                         23.6\n",
      "==============================================================================\n",
      "\n",
      "Notes:\n",
      "[1] Standard Errors assume that the covariance matrix of the errors is correctly specified.\n",
      "               Features    VIF\n",
      "4                   hum  28.53\n",
      "3                  temp  17.32\n",
      "2            workingday   6.06\n",
      "5             windspeed   5.73\n",
      "6         season_spring   4.45\n",
      "8         season_winter   3.24\n",
      "7         season_summer   3.01\n",
      "14  weathersit_moderate   2.26\n",
      "0                    yr   2.10\n",
      "12          weekday_sat   2.01\n",
      "10             mnth_jul   1.83\n",
      "9              mnth_jan   1.67\n",
      "11            mnth_sept   1.47\n",
      "13       weathersit_bad   1.27\n",
      "1               holiday   1.21\n"
     ]
    }
   ],
   "source": [
    "# All columns selected by RFE\n",
    "#Selected columns for Model 1 - all columns selected by RFE\n",
    "\n",
    "cols = ['yr', 'holiday', 'workingday', 'temp', 'hum', 'windspeed', 'season_spring',\n",
    "       'season_summer', 'season_winter', 'mnth_jan', 'mnth_jul', 'mnth_sept', 'weekday_sat',\n",
    "       'weathersit_bad', 'weathersit_moderate']\n",
    "\n",
    "model(cols)\n",
    "vif(cols)"
   ]
  },
  {
   "cell_type": "code",
   "execution_count": 44,
   "id": "f573ef22",
   "metadata": {},
   "outputs": [
    {
     "data": {
      "image/png": "[encoded data removed]",
      "text/plain": [
       "<Figure size 1080x720 with 2 Axes>"
      ]
     },
     "metadata": {
      "needs_background": "light"
     },
     "output_type": "display_data"
    }
   ],
   "source": [
    "# Checking correlation of features selected by RFE with target column. \n",
    "# Also to check impact of different features on target.\n",
    "\n",
    "plt.figure(figsize = (15,10))\n",
    "sns.heatmap(bs[['yr', 'holiday', 'workingday', 'temp', 'hum', 'windspeed', 'season_spring',\n",
    "       'season_summer', 'season_winter', 'mnth_jan', 'mnth_jul', 'mnth_sept', 'weekday_sat',\n",
    "       'weathersit_bad', 'weathersit_moderate']].corr(), cmap='YlGnBu', annot=True)\n",
    "plt.show()"
   ]
  },
  {
   "cell_type": "markdown",
   "id": "86c3da1e",
   "metadata": {},
   "source": [
    "### Model 2 : Dropping mnth_jan variable"
   ]
  },
  {
   "cell_type": "code",
   "execution_count": 45,
   "id": "bebe1cc9",
   "metadata": {},
   "outputs": [
    {
     "name": "stdout",
     "output_type": "stream",
     "text": [
      "                            OLS Regression Results                            \n",
      "==============================================================================\n",
      "Dep. Variable:                    cnt   R-squared:                       0.833\n",
      "Model:                            OLS   Adj. R-squared:                  0.829\n",
      "Method:                 Least Squares   F-statistic:                     177.1\n",
      "Date:                Tue, 12 Jul 2022   Prob (F-statistic):          1.35e-182\n",
      "Time:                        21:37:04   Log-Likelihood:                -4135.0\n",
      "No. Observations:                 511   AIC:                             8300.\n",
      "Df Residuals:                     496   BIC:                             8363.\n",
      "Df Model:                          14                                         \n",
      "Covariance Type:            nonrobust                                         \n",
      "=======================================================================================\n",
      "                          coef    std err          t      P>|t|      [0.025      0.975]\n",
      "---------------------------------------------------------------------------------------\n",
      "const                2792.2799    343.427      8.131      0.000    2117.529    3467.030\n",
      "yr                   1955.1531     72.261     27.057      0.000    1813.177    2097.129\n",
      "holiday              -840.8434    237.294     -3.543      0.000   -1307.069    -374.618\n",
      "workingday           -200.8684    107.396     -1.870      0.062    -411.877      10.140\n",
      "temp                 4258.5248    296.741     14.351      0.000    3675.500    4841.549\n",
      "hum                 -1383.9501    339.207     -4.080      0.000   -2050.411    -717.489\n",
      "windspeed           -1073.0058    210.525     -5.097      0.000   -1486.637    -659.375\n",
      "season_spring        -806.5438    188.813     -4.272      0.000   -1177.516    -435.572\n",
      "season_summer         384.0827    132.735      2.894      0.004     123.290     644.875\n",
      "season_winter         774.4415    150.424      5.148      0.000     478.895    1069.988\n",
      "mnth_jul             -369.6007    159.322     -2.320      0.021    -682.630     -56.571\n",
      "mnth_sept             665.9059    144.207      4.618      0.000     382.574     949.238\n",
      "weekday_sat           -71.1261    136.276     -0.522      0.602    -338.875     196.623\n",
      "weathersit_bad      -1756.5848    237.911     -7.383      0.000   -2224.023   -1289.147\n",
      "weathersit_moderate  -462.7865     93.616     -4.943      0.000    -646.719    -278.854\n",
      "==============================================================================\n",
      "Omnibus:                       65.111   Durbin-Watson:                   2.095\n",
      "Prob(Omnibus):                  0.000   Jarque-Bera (JB):              124.284\n",
      "Skew:                          -0.746   Prob(JB):                     1.03e-27\n",
      "Kurtosis:                       4.900   Cond. No.                         23.5\n",
      "==============================================================================\n",
      "\n",
      "Notes:\n",
      "[1] Standard Errors assume that the covariance matrix of the errors is correctly specified.\n",
      "               Features    VIF\n",
      "4                   hum  27.99\n",
      "3                  temp  16.83\n",
      "2            workingday   6.06\n",
      "5             windspeed   5.70\n",
      "6         season_spring   4.10\n",
      "8         season_winter   3.23\n",
      "7         season_summer   3.01\n",
      "13  weathersit_moderate   2.25\n",
      "0                    yr   2.10\n",
      "11          weekday_sat   2.01\n",
      "9              mnth_jul   1.82\n",
      "10            mnth_sept   1.47\n",
      "12       weathersit_bad   1.26\n",
      "1               holiday   1.21\n"
     ]
    }
   ],
   "source": [
    "# Dropping the variable mnth_jan as it has negative coefficient and is insignificant as it has high p-value\n",
    "\n",
    "cols = ['yr', 'holiday', 'workingday', 'temp', 'hum', 'windspeed', 'season_spring',\n",
    "       'season_summer', 'season_winter', 'mnth_jul', 'mnth_sept', 'weekday_sat',\n",
    "       'weathersit_bad', 'weathersit_moderate']\n",
    "model(cols)\n",
    "vif(cols)"
   ]
  },
  {
   "cell_type": "markdown",
   "id": "e70d4b8a",
   "metadata": {},
   "source": [
    "### Model 3 : Dropping hum variable"
   ]
  },
  {
   "cell_type": "code",
   "execution_count": 46,
   "id": "4d0746e9",
   "metadata": {},
   "outputs": [
    {
     "name": "stdout",
     "output_type": "stream",
     "text": [
      "                            OLS Regression Results                            \n",
      "==============================================================================\n",
      "Dep. Variable:                    cnt   R-squared:                       0.828\n",
      "Model:                            OLS   Adj. R-squared:                  0.823\n",
      "Method:                 Least Squares   F-statistic:                     183.6\n",
      "Date:                Tue, 12 Jul 2022   Prob (F-statistic):          3.37e-180\n",
      "Time:                        21:37:04   Log-Likelihood:                -4143.4\n",
      "No. Observations:                 511   AIC:                             8315.\n",
      "Df Residuals:                     497   BIC:                             8374.\n",
      "Df Model:                          13                                         \n",
      "Covariance Type:            nonrobust                                         \n",
      "=======================================================================================\n",
      "                          coef    std err          t      P>|t|      [0.025      0.975]\n",
      "---------------------------------------------------------------------------------------\n",
      "const                2004.0762    288.371      6.950      0.000    1437.500    2570.652\n",
      "yr                   1995.7722     72.690     27.456      0.000    1852.954    2138.590\n",
      "holiday              -873.2715    240.865     -3.626      0.000   -1346.511    -400.032\n",
      "workingday           -226.4412    108.888     -2.080      0.038    -440.379     -12.504\n",
      "temp                 4050.9306    296.912     13.644      0.000    3467.573    4634.289\n",
      "windspeed            -816.0345    204.020     -4.000      0.000   -1216.883    -415.186\n",
      "season_spring        -838.0753    191.601     -4.374      0.000   -1214.523    -461.627\n",
      "season_summer         376.3936    134.795      2.792      0.005     111.556     641.231\n",
      "season_winter         713.5094    152.019      4.694      0.000     414.831    1012.188\n",
      "mnth_jul             -326.5137    161.455     -2.022      0.044    -643.731      -9.296\n",
      "mnth_sept             610.3106    145.804      4.186      0.000     323.843     896.779\n",
      "weekday_sat           -50.4406    138.309     -0.365      0.715    -322.182     221.301\n",
      "weathersit_bad      -2161.8583    219.559     -9.846      0.000   -2593.236   -1730.481\n",
      "weathersit_moderate  -685.8621     77.177     -8.887      0.000    -837.495    -534.229\n",
      "==============================================================================\n",
      "Omnibus:                       60.891   Durbin-Watson:                   2.127\n",
      "Prob(Omnibus):                  0.000   Jarque-Bera (JB):              113.587\n",
      "Skew:                          -0.712   Prob(JB):                     2.16e-25\n",
      "Kurtosis:                       4.819   Cond. No.                         20.3\n",
      "==============================================================================\n",
      "\n",
      "Notes:\n",
      "[1] Standard Errors assume that the covariance matrix of the errors is correctly specified.\n",
      "               Features   VIF\n",
      "3                  temp  8.10\n",
      "2            workingday  5.73\n",
      "4             windspeed  5.69\n",
      "5         season_spring  2.69\n",
      "6         season_summer  2.69\n",
      "7         season_winter  2.19\n",
      "0                    yr  2.09\n",
      "10          weekday_sat  1.99\n",
      "8              mnth_jul  1.82\n",
      "12  weathersit_moderate  1.57\n",
      "9             mnth_sept  1.43\n",
      "1               holiday  1.19\n",
      "11       weathersit_bad  1.09\n"
     ]
    }
   ],
   "source": [
    "# Dropping the variable hum as it has negative coefficient and is insignificant as it has high p-value\n",
    "cols = ['yr', 'holiday', 'workingday', 'temp', 'windspeed', 'season_spring',\n",
    "       'season_summer', 'season_winter', 'mnth_jul', 'mnth_sept', 'weekday_sat',\n",
    "       'weathersit_bad', 'weathersit_moderate']\n",
    "model(cols)\n",
    "vif(cols)"
   ]
  },
  {
   "cell_type": "markdown",
   "id": "37d90578",
   "metadata": {},
   "source": [
    "### Model 4 : Dropping holiday variable"
   ]
  },
  {
   "cell_type": "code",
   "execution_count": 47,
   "id": "7a9842f3",
   "metadata": {},
   "outputs": [
    {
     "name": "stdout",
     "output_type": "stream",
     "text": [
      "                            OLS Regression Results                            \n",
      "==============================================================================\n",
      "Dep. Variable:                    cnt   R-squared:                       0.823\n",
      "Model:                            OLS   Adj. R-squared:                  0.819\n",
      "Method:                 Least Squares   F-statistic:                     193.1\n",
      "Date:                Tue, 12 Jul 2022   Prob (F-statistic):          1.51e-178\n",
      "Time:                        21:37:04   Log-Likelihood:                -4150.1\n",
      "No. Observations:                 511   AIC:                             8326.\n",
      "Df Residuals:                     498   BIC:                             8381.\n",
      "Df Model:                          12                                         \n",
      "Covariance Type:            nonrobust                                         \n",
      "=======================================================================================\n",
      "                          coef    std err          t      P>|t|      [0.025      0.975]\n",
      "---------------------------------------------------------------------------------------\n",
      "const                1845.8415    288.504      6.398      0.000    1279.007    2412.676\n",
      "yr                   1997.7265     73.569     27.154      0.000    1853.182    2142.271\n",
      "workingday            -76.1270    101.906     -0.747      0.455    -276.346     124.093\n",
      "temp                 4062.1670    300.495     13.518      0.000    3471.774    4652.560\n",
      "windspeed            -786.5884    206.329     -3.812      0.000   -1191.972    -381.205\n",
      "season_spring        -870.5177    193.712     -4.494      0.000   -1251.111    -489.925\n",
      "season_summer         366.4796    136.400      2.687      0.007      98.489     634.471\n",
      "season_winter         697.9586    153.800      4.538      0.000     395.782    1000.135\n",
      "mnth_jul             -335.0219    163.394     -2.050      0.041    -656.049     -13.995\n",
      "mnth_sept             606.0378    147.566      4.107      0.000     316.109     895.967\n",
      "weekday_sat            99.5698    133.574      0.745      0.456    -162.869     362.008\n",
      "weathersit_bad      -2148.1594    222.187     -9.668      0.000   -2584.699   -1711.620\n",
      "weathersit_moderate  -676.7543     78.071     -8.668      0.000    -830.143    -523.365\n",
      "==============================================================================\n",
      "Omnibus:                       68.186   Durbin-Watson:                   2.118\n",
      "Prob(Omnibus):                  0.000   Jarque-Bera (JB):              126.740\n",
      "Skew:                          -0.787   Prob(JB):                     3.01e-28\n",
      "Kurtosis:                       4.864   Cond. No.                         20.2\n",
      "==============================================================================\n",
      "\n",
      "Notes:\n",
      "[1] Standard Errors assume that the covariance matrix of the errors is correctly specified.\n",
      "               Features   VIF\n",
      "2                  temp  7.79\n",
      "3             windspeed  5.69\n",
      "1            workingday  5.01\n",
      "5         season_summer  2.66\n",
      "4         season_spring  2.51\n",
      "6         season_winter  2.10\n",
      "0                    yr  2.09\n",
      "9           weekday_sat  1.84\n",
      "7              mnth_jul  1.82\n",
      "11  weathersit_moderate  1.57\n",
      "8             mnth_sept  1.42\n",
      "10       weathersit_bad  1.09\n"
     ]
    }
   ],
   "source": [
    "# Dropping the variable holiday as it has negative coefficient and is insignificant as it has high p-value\n",
    "cols = ['yr', 'workingday', 'temp', 'windspeed', 'season_spring',\n",
    "       'season_summer', 'season_winter', 'mnth_jul', 'mnth_sept', 'weekday_sat',\n",
    "       'weathersit_bad', 'weathersit_moderate']\n",
    "model(cols)\n",
    "vif(cols)"
   ]
  },
  {
   "cell_type": "markdown",
   "id": "ab39c3d9",
   "metadata": {},
   "source": [
    "### Model 5 : Dropping mnth_july variable"
   ]
  },
  {
   "cell_type": "code",
   "execution_count": 48,
   "id": "51e882f4",
   "metadata": {},
   "outputs": [
    {
     "name": "stdout",
     "output_type": "stream",
     "text": [
      "                            OLS Regression Results                            \n",
      "==============================================================================\n",
      "Dep. Variable:                    cnt   R-squared:                       0.822\n",
      "Model:                            OLS   Adj. R-squared:                  0.818\n",
      "Method:                 Least Squares   F-statistic:                     209.0\n",
      "Date:                Tue, 12 Jul 2022   Prob (F-statistic):          8.20e-179\n",
      "Time:                        21:37:04   Log-Likelihood:                -4152.2\n",
      "No. Observations:                 511   AIC:                             8328.\n",
      "Df Residuals:                     499   BIC:                             8379.\n",
      "Df Model:                          11                                         \n",
      "Covariance Type:            nonrobust                                         \n",
      "=======================================================================================\n",
      "                          coef    std err          t      P>|t|      [0.025      0.975]\n",
      "---------------------------------------------------------------------------------------\n",
      "const                1779.2943    287.591      6.187      0.000    1214.255    2344.333\n",
      "yr                   1992.6143     73.763     27.014      0.000    1847.691    2137.538\n",
      "workingday            -74.8818    102.231     -0.732      0.464    -275.739     125.975\n",
      "temp                 3958.5476    297.164     13.321      0.000    3374.701    4542.395\n",
      "windspeed            -779.1681    206.959     -3.765      0.000   -1185.786    -372.550\n",
      "season_spring        -778.9193    189.094     -4.119      0.000   -1150.438    -407.400\n",
      "season_summer         491.7101    122.353      4.019      0.000     251.320     732.100\n",
      "season_winter         798.5462    146.233      5.461      0.000     511.238    1085.855\n",
      "mnth_sept             715.4337    138.024      5.183      0.000     444.253     986.614\n",
      "weekday_sat           106.3578    133.961      0.794      0.428    -156.840     369.555\n",
      "weathersit_bad      -2160.9326    222.811     -9.698      0.000   -2598.697   -1723.169\n",
      "weathersit_moderate  -669.8623     78.249     -8.561      0.000    -823.600    -516.125\n",
      "==============================================================================\n",
      "Omnibus:                       70.746   Durbin-Watson:                   2.113\n",
      "Prob(Omnibus):                  0.000   Jarque-Bera (JB):              130.655\n",
      "Skew:                          -0.816   Prob(JB):                     4.25e-29\n",
      "Kurtosis:                       4.864   Cond. No.                         20.2\n",
      "==============================================================================\n",
      "\n",
      "Notes:\n",
      "[1] Standard Errors assume that the covariance matrix of the errors is correctly specified.\n",
      "               Features   VIF\n",
      "2                  temp  6.13\n",
      "3             windspeed  5.68\n",
      "1            workingday  5.01\n",
      "4         season_spring  2.38\n",
      "5         season_summer  2.10\n",
      "0                    yr  2.09\n",
      "6         season_winter  1.85\n",
      "8           weekday_sat  1.84\n",
      "10  weathersit_moderate  1.57\n",
      "7             mnth_sept  1.25\n",
      "9        weathersit_bad  1.09\n"
     ]
    }
   ],
   "source": [
    "# Dropping the variable mnth_jul as it has negative coefficient and is insignificant as it has high p-value\n",
    "cols = ['yr', 'workingday', 'temp', 'windspeed', 'season_spring',\n",
    "       'season_summer', 'season_winter', 'mnth_sept', 'weekday_sat',\n",
    "       'weathersit_bad', 'weathersit_moderate']\n",
    "model(cols)\n",
    "vif(cols)"
   ]
  },
  {
   "cell_type": "markdown",
   "id": "3993de75",
   "metadata": {},
   "source": [
    "### Model 6 : Dropping temp variable"
   ]
  },
  {
   "cell_type": "code",
   "execution_count": 49,
   "id": "dbec74eb",
   "metadata": {},
   "outputs": [
    {
     "name": "stdout",
     "output_type": "stream",
     "text": [
      "                            OLS Regression Results                            \n",
      "==============================================================================\n",
      "Dep. Variable:                    cnt   R-squared:                       0.758\n",
      "Model:                            OLS   Adj. R-squared:                  0.753\n",
      "Method:                 Least Squares   F-statistic:                     156.8\n",
      "Date:                Tue, 12 Jul 2022   Prob (F-statistic):          4.14e-147\n",
      "Time:                        21:37:04   Log-Likelihood:                -4229.9\n",
      "No. Observations:                 511   AIC:                             8482.\n",
      "Df Residuals:                     500   BIC:                             8528.\n",
      "Df Model:                          10                                         \n",
      "Covariance Type:            nonrobust                                         \n",
      "=======================================================================================\n",
      "                          coef    std err          t      P>|t|      [0.025      0.975]\n",
      "---------------------------------------------------------------------------------------\n",
      "const                5070.0855    171.270     29.603      0.000    4733.588    5406.583\n",
      "yr                   2046.1574     85.669     23.884      0.000    1877.842    2214.473\n",
      "workingday            -55.6747    118.898     -0.468      0.640    -289.276     177.926\n",
      "windspeed           -1121.0037    238.865     -4.693      0.000   -1590.307    -651.700\n",
      "season_spring       -2807.3198    130.410    -21.527      0.000   -3063.539   -2551.101\n",
      "season_summer        -238.6532    127.226     -1.876      0.061    -488.616      11.309\n",
      "season_winter        -549.2221    122.808     -4.472      0.000    -790.505    -307.940\n",
      "mnth_sept             655.6807    160.457      4.086      0.000     340.427     970.934\n",
      "weekday_sat           174.8222    155.701      1.123      0.262    -131.087     480.732\n",
      "weathersit_bad      -2376.8425    258.475     -9.196      0.000   -2884.673   -1869.011\n",
      "weathersit_moderate  -707.3960     90.955     -7.777      0.000    -886.098    -528.694\n",
      "==============================================================================\n",
      "Omnibus:                       48.755   Durbin-Watson:                   2.017\n",
      "Prob(Omnibus):                  0.000   Jarque-Bera (JB):               87.389\n",
      "Skew:                          -0.600   Prob(JB):                     1.06e-19\n",
      "Kurtosis:                       4.632   Cond. No.                         10.1\n",
      "==============================================================================\n",
      "\n",
      "Notes:\n",
      "[1] Standard Errors assume that the covariance matrix of the errors is correctly specified.\n",
      "              Features   VIF\n",
      "2            windspeed  4.72\n",
      "1           workingday  3.63\n",
      "4        season_summer  2.10\n",
      "3        season_spring  1.97\n",
      "0                   yr  1.92\n",
      "5        season_winter  1.79\n",
      "9  weathersit_moderate  1.55\n",
      "7          weekday_sat  1.53\n",
      "6            mnth_sept  1.20\n",
      "8       weathersit_bad  1.08\n"
     ]
    }
   ],
   "source": [
    "# Dropping the variable temp as it has negative coefficient and is insignificant as it has high p-value\n",
    "cols = ['yr', 'workingday', 'windspeed', 'season_spring',\n",
    "       'season_summer', 'season_winter', 'mnth_sept', 'weekday_sat',\n",
    "       'weathersit_bad', 'weathersit_moderate']\n",
    "model(cols)\n",
    "vif(cols)"
   ]
  },
  {
   "cell_type": "markdown",
   "id": "c78badb7",
   "metadata": {},
   "source": [
    "### Model 7 : Replace July with spring\n"
   ]
  },
  {
   "cell_type": "code",
   "execution_count": 50,
   "id": "270ada1e",
   "metadata": {},
   "outputs": [
    {
     "name": "stdout",
     "output_type": "stream",
     "text": [
      "                            OLS Regression Results                            \n",
      "==============================================================================\n",
      "Dep. Variable:                    cnt   R-squared:                       0.598\n",
      "Model:                            OLS   Adj. R-squared:                  0.590\n",
      "Method:                 Least Squares   F-statistic:                     74.53\n",
      "Date:                Tue, 12 Jul 2022   Prob (F-statistic):           1.84e-92\n",
      "Time:                        21:37:04   Log-Likelihood:                -4359.5\n",
      "No. Observations:                 511   AIC:                             8741.\n",
      "Df Residuals:                     500   BIC:                             8788.\n",
      "Df Model:                          10                                         \n",
      "Covariance Type:            nonrobust                                         \n",
      "=======================================================================================\n",
      "                          coef    std err          t      P>|t|      [0.025      0.975]\n",
      "---------------------------------------------------------------------------------------\n",
      "const                3428.8800    218.221     15.713      0.000    3000.137    3857.623\n",
      "yr                   2023.8468    110.482     18.318      0.000    1806.781    2240.913\n",
      "workingday            -38.3109    153.206     -0.250      0.803    -339.319     262.697\n",
      "windspeed           -1593.4679    306.186     -5.204      0.000   -2195.037    -991.899\n",
      "mnth_jul             1841.3537    205.607      8.956      0.000    1437.393    2245.314\n",
      "season_summer        1636.1185    142.791     11.458      0.000    1355.574    1916.663\n",
      "season_winter        1159.9566    142.320      8.150      0.000     880.338    1439.575\n",
      "mnth_sept            2041.2727    199.249     10.245      0.000    1649.804    2432.741\n",
      "weekday_sat           217.4077    200.645      1.084      0.279    -176.804     611.620\n",
      "weathersit_bad      -2504.9829    332.986     -7.523      0.000   -3159.206   -1850.760\n",
      "weathersit_moderate  -766.2760    117.266     -6.535      0.000    -996.670    -535.882\n",
      "==============================================================================\n",
      "Omnibus:                        1.168   Durbin-Watson:                   2.143\n",
      "Prob(Omnibus):                  0.558   Jarque-Bera (JB):                0.968\n",
      "Skew:                          -0.070   Prob(JB):                        0.616\n",
      "Kurtosis:                       3.161   Cond. No.                         10.2\n",
      "==============================================================================\n",
      "\n",
      "Notes:\n",
      "[1] Standard Errors assume that the covariance matrix of the errors is correctly specified.\n",
      "              Features   VIF\n",
      "2            windspeed  4.04\n",
      "1           workingday  3.60\n",
      "0                   yr  1.94\n",
      "4        season_summer  1.66\n",
      "9  weathersit_moderate  1.53\n",
      "7          weekday_sat  1.52\n",
      "5        season_winter  1.51\n",
      "3             mnth_jul  1.20\n",
      "6            mnth_sept  1.14\n",
      "8       weathersit_bad  1.08\n"
     ]
    }
   ],
   "source": [
    "## Trying to replace July with spring as both were highly correlated\n",
    "\n",
    "cols = ['yr', 'workingday', 'windspeed', 'mnth_jul',\n",
    "       'season_summer', 'season_winter', 'mnth_sept', 'weekday_sat',\n",
    "       'weathersit_bad', 'weathersit_moderate']\n",
    "model(cols)\n",
    "vif(cols)"
   ]
  },
  {
   "cell_type": "markdown",
   "id": "122b154c",
   "metadata": {},
   "source": [
    "### Model 8 : Removing windspeed with spring"
   ]
  },
  {
   "cell_type": "code",
   "execution_count": 51,
   "id": "c6b6302a",
   "metadata": {
    "scrolled": false
   },
   "outputs": [
    {
     "name": "stdout",
     "output_type": "stream",
     "text": [
      "                            OLS Regression Results                            \n",
      "==============================================================================\n",
      "Dep. Variable:                    cnt   R-squared:                       0.748\n",
      "Model:                            OLS   Adj. R-squared:                  0.743\n",
      "Method:                 Least Squares   F-statistic:                     148.1\n",
      "Date:                Tue, 12 Jul 2022   Prob (F-statistic):          1.75e-142\n",
      "Time:                        21:37:04   Log-Likelihood:                -4240.9\n",
      "No. Observations:                 511   AIC:                             8504.\n",
      "Df Residuals:                     500   BIC:                             8550.\n",
      "Df Model:                          10                                         \n",
      "Covariance Type:            nonrobust                                         \n",
      "=======================================================================================\n",
      "                          coef    std err          t      P>|t|      [0.025      0.975]\n",
      "---------------------------------------------------------------------------------------\n",
      "const                4618.6083    171.089     26.995      0.000    4282.466    4954.751\n",
      "yr                   2044.4203     87.603     23.337      0.000    1872.305    2216.536\n",
      "workingday            -56.1933    121.473     -0.463      0.644    -294.853     182.466\n",
      "season_spring       -2870.0928    155.996    -18.398      0.000   -3176.582   -2563.604\n",
      "mnth_jul               70.2520    191.872      0.366      0.714    -306.722     447.226\n",
      "season_summer        -295.1827    153.267     -1.926      0.055    -596.310       5.945\n",
      "season_winter        -511.6222    147.583     -3.467      0.001    -801.582    -221.662\n",
      "mnth_sept             698.3965    175.707      3.975      0.000     353.181    1043.612\n",
      "weekday_sat           187.9124    159.074      1.181      0.238    -124.624     500.449\n",
      "weathersit_bad      -2549.7818    261.417     -9.754      0.000   -3063.393   -2036.170\n",
      "weathersit_moderate  -706.6774     93.034     -7.596      0.000    -889.463    -523.892\n",
      "==============================================================================\n",
      "Omnibus:                       48.276   Durbin-Watson:                   2.052\n",
      "Prob(Omnibus):                  0.000   Jarque-Bera (JB):               89.524\n",
      "Skew:                          -0.583   Prob(JB):                     3.63e-20\n",
      "Kurtosis:                       4.686   Cond. No.                         10.8\n",
      "==============================================================================\n",
      "\n",
      "Notes:\n",
      "[1] Standard Errors assume that the covariance matrix of the errors is correctly specified.\n",
      "              Features   VIF\n",
      "1           workingday  3.53\n",
      "4        season_summer  2.09\n",
      "0                   yr  1.95\n",
      "5        season_winter  1.92\n",
      "2        season_spring  1.91\n",
      "9  weathersit_moderate  1.54\n",
      "7          weekday_sat  1.51\n",
      "3             mnth_jul  1.36\n",
      "6            mnth_sept  1.24\n",
      "8       weathersit_bad  1.06\n"
     ]
    }
   ],
   "source": [
    "# Removing windspeed with spring as windspeed was highly correlated with temp\n",
    "cols = ['yr', 'workingday', 'season_spring', 'mnth_jul',\n",
    "       'season_summer', 'season_winter', 'mnth_sept', 'weekday_sat',\n",
    "       'weathersit_bad', 'weathersit_moderate']\n",
    "model(cols)\n",
    "vif(cols)"
   ]
  },
  {
   "cell_type": "markdown",
   "id": "dc8a9ce4",
   "metadata": {},
   "source": [
    "### Model 9 "
   ]
  },
  {
   "cell_type": "code",
   "execution_count": 52,
   "id": "bbb066df",
   "metadata": {
    "scrolled": false
   },
   "outputs": [
    {
     "name": "stdout",
     "output_type": "stream",
     "text": [
      "                            OLS Regression Results                            \n",
      "==============================================================================\n",
      "Dep. Variable:                    cnt   R-squared:                       0.747\n",
      "Model:                            OLS   Adj. R-squared:                  0.742\n",
      "Method:                 Least Squares   F-statistic:                     147.6\n",
      "Date:                Tue, 12 Jul 2022   Prob (F-statistic):          3.20e-142\n",
      "Time:                        21:37:04   Log-Likelihood:                -4241.5\n",
      "No. Observations:                 511   AIC:                             8505.\n",
      "Df Residuals:                     500   BIC:                             8552.\n",
      "Df Model:                          10                                         \n",
      "Covariance Type:            nonrobust                                         \n",
      "=======================================================================================\n",
      "                          coef    std err          t      P>|t|      [0.025      0.975]\n",
      "---------------------------------------------------------------------------------------\n",
      "const                4681.2816    167.875     27.886      0.000    4351.454    5011.109\n",
      "yr                   2038.5364     87.673     23.252      0.000    1866.284    2210.789\n",
      "workingday           -115.6409    118.518     -0.976      0.330    -348.495     117.213\n",
      "season_spring       -2871.3755    156.223    -18.380      0.000   -3178.310   -2564.441\n",
      "mnth_jul               65.7810    192.080      0.342      0.732    -311.603     443.165\n",
      "season_summer        -295.2745    153.454     -1.924      0.055    -596.768       6.219\n",
      "season_winter        -513.5665    147.755     -3.476      0.001    -803.863    -223.270\n",
      "mnth_sept             693.6378    175.901      3.943      0.000     348.042    1039.233\n",
      "weekday_sun            67.7180    160.084      0.423      0.672    -246.803     382.239\n",
      "weathersit_bad      -2540.6418    261.664     -9.710      0.000   -3054.739   -2026.544\n",
      "weathersit_moderate  -703.4064     93.120     -7.554      0.000    -886.362    -520.451\n",
      "==============================================================================\n",
      "Omnibus:                       51.267   Durbin-Watson:                   2.060\n",
      "Prob(Omnibus):                  0.000   Jarque-Bera (JB):               98.323\n",
      "Skew:                          -0.603   Prob(JB):                     4.46e-22\n",
      "Kurtosis:                       4.778   Cond. No.                         10.8\n",
      "==============================================================================\n",
      "\n",
      "Notes:\n",
      "[1] Standard Errors assume that the covariance matrix of the errors is correctly specified.\n",
      "              Features   VIF\n",
      "1           workingday  3.47\n",
      "4        season_summer  2.04\n",
      "0                   yr  1.98\n",
      "5        season_winter  1.89\n",
      "2        season_spring  1.85\n",
      "9  weathersit_moderate  1.53\n",
      "7          weekday_sun  1.48\n",
      "3             mnth_jul  1.36\n",
      "6            mnth_sept  1.24\n",
      "8       weathersit_bad  1.06\n"
     ]
    }
   ],
   "source": [
    "# using the weekend \"Sunday\" which was dropped during RFE instead of Saturday.\n",
    "\n",
    "cols = ['yr', 'workingday', 'season_spring', 'mnth_jul',\n",
    "       'season_summer', 'season_winter', 'mnth_sept', 'weekday_sun',\n",
    "       'weathersit_bad', 'weathersit_moderate']\n",
    "model(cols)\n",
    "vif(cols)"
   ]
  },
  {
   "cell_type": "markdown",
   "id": "4e31f84a",
   "metadata": {},
   "source": [
    "### Model 10 "
   ]
  },
  {
   "cell_type": "code",
   "execution_count": 53,
   "id": "55330f50",
   "metadata": {
    "scrolled": false
   },
   "outputs": [
    {
     "name": "stdout",
     "output_type": "stream",
     "text": [
      "                            OLS Regression Results                            \n",
      "==============================================================================\n",
      "Dep. Variable:                    cnt   R-squared:                       0.816\n",
      "Model:                            OLS   Adj. R-squared:                  0.812\n",
      "Method:                 Least Squares   F-statistic:                     246.5\n",
      "Date:                Tue, 12 Jul 2022   Prob (F-statistic):          9.73e-178\n",
      "Time:                        21:37:04   Log-Likelihood:                -4160.4\n",
      "No. Observations:                 511   AIC:                             8341.\n",
      "Df Residuals:                     501   BIC:                             8383.\n",
      "Df Model:                           9                                         \n",
      "Covariance Type:            nonrobust                                         \n",
      "=======================================================================================\n",
      "                          coef    std err          t      P>|t|      [0.025      0.975]\n",
      "---------------------------------------------------------------------------------------\n",
      "const                1740.7372    205.338      8.477      0.000    1337.308    2144.167\n",
      "yr                   1994.6796     74.789     26.671      0.000    1847.740    2141.619\n",
      "season_spring       -1167.7009    145.664     -8.016      0.000   -1453.888    -881.514\n",
      "mnth_jul             -514.6318    148.396     -3.468      0.001    -806.187    -223.077\n",
      "season_winter         496.7543    111.027      4.474      0.000     278.618     714.891\n",
      "mnth_sept             465.9273    136.312      3.418      0.001     198.115     733.740\n",
      "weekday_sun           190.3752    109.596      1.737      0.083     -24.949     405.699\n",
      "weathersit_bad      -2256.1048    223.984    -10.073      0.000   -2696.168   -1816.042\n",
      "weathersit_moderate  -662.3899     79.266     -8.357      0.000    -818.125    -506.655\n",
      "temp                 3984.2556    286.305     13.916      0.000    3421.749    4546.762\n",
      "==============================================================================\n",
      "Omnibus:                       69.811   Durbin-Watson:                   2.162\n",
      "Prob(Omnibus):                  0.000   Jarque-Bera (JB):              135.943\n",
      "Skew:                          -0.786   Prob(JB):                     3.02e-30\n",
      "Kurtosis:                       4.978   Cond. No.                         14.0\n",
      "==============================================================================\n",
      "\n",
      "Notes:\n",
      "[1] Standard Errors assume that the covariance matrix of the errors is correctly specified.\n",
      "              Features   VIF\n",
      "8                 temp  3.01\n",
      "0                   yr  2.07\n",
      "7  weathersit_moderate  1.53\n",
      "2             mnth_jul  1.39\n",
      "3        season_winter  1.34\n",
      "1        season_spring  1.25\n",
      "4            mnth_sept  1.20\n",
      "5          weekday_sun  1.15\n",
      "6       weathersit_bad  1.05\n"
     ]
    }
   ],
   "source": [
    "# adding temp and removed 'season_summer' and 'workingday'\n",
    "cols = ['yr', 'season_spring', 'mnth_jul',\n",
    "        'season_winter', 'mnth_sept', 'weekday_sun',\n",
    "       'weathersit_bad', 'weathersit_moderate', 'temp']\n",
    "model(cols)\n",
    "vif(cols)"
   ]
  },
  {
   "cell_type": "markdown",
   "id": "80a6460c",
   "metadata": {},
   "source": [
    "#### `Inference`    \n",
    "    - Here VIF seems to be almost accepted.\n",
    "    - p-value for all the features is almost 0.0 and R2 is 0.821 \n",
    "    - Model 10 as our final as it has all important statistics high (R-square, Adjusted R-squared and F-statistic), along with no insignificant variables and no multi coliinear (high VIF) variables. \n",
    "    - Difference between R-squared and Adjusted R-squared values for this model is veryless, which also means that there are no additional parameters that can be removed from this model."
   ]
  },
  {
   "cell_type": "code",
   "execution_count": 54,
   "id": "cd731742",
   "metadata": {},
   "outputs": [],
   "source": [
    "# Build a model with all columns to select features automatically\n",
    "\n",
    "def build_model_sk(X,y):\n",
    "    lr1 = LinearRegression()\n",
    "    lr1.fit(X,y)\n",
    "    return lr1"
   ]
  },
  {
   "cell_type": "code",
   "execution_count": 55,
   "id": "17c0004e",
   "metadata": {},
   "outputs": [],
   "source": [
    "# Let us build the finalmodel using sklearn\n",
    "\n",
    "cols = ['yr', 'season_spring', 'mnth_jul',\n",
    "        'season_winter', 'mnth_sept', 'weekday_sun',\n",
    "       'weathersit_bad', 'weathersit_moderate', 'temp']\n"
   ]
  },
  {
   "cell_type": "code",
   "execution_count": 56,
   "id": "699b99e9",
   "metadata": {},
   "outputs": [
    {
     "name": "stdout",
     "output_type": "stream",
     "text": [
      "1740.7372440164272 [ 1994.67955569 -1167.70089558  -514.63181313   496.75430396\n",
      "   465.92729708   190.37518346 -2256.10482681  -662.38986442\n",
      "  3984.25555511]\n"
     ]
    }
   ],
   "source": [
    "# Build a model with above columns\n",
    "\n",
    "lr = build_model_sk(X_train[cols],y_train)\n",
    "print(lr.intercept_,lr.coef_)"
   ]
  },
  {
   "cell_type": "markdown",
   "id": "61191a93",
   "metadata": {},
   "source": [
    "## 8.4 Model Evaluation"
   ]
  },
  {
   "cell_type": "markdown",
   "id": "2c5134c8",
   "metadata": {},
   "source": [
    "### 8.4.1 `Residual Analysis`"
   ]
  },
  {
   "cell_type": "code",
   "execution_count": 57,
   "id": "f23d3a76",
   "metadata": {},
   "outputs": [],
   "source": [
    "y_train_pred = lr.predict(X_train[cols])"
   ]
  },
  {
   "cell_type": "code",
   "execution_count": 58,
   "id": "840353c5",
   "metadata": {},
   "outputs": [],
   "source": [
    "# Plot a histogram of the error terms\n",
    "\n",
    "def plot_res_dist(act, pred):\n",
    "    sns.distplot(act-pred)\n",
    "    plt.title('Error Terms')\n",
    "    plt.xlabel('Errors')"
   ]
  },
  {
   "cell_type": "code",
   "execution_count": 59,
   "id": "9d30b800",
   "metadata": {},
   "outputs": [
    {
     "data": {
      "image/png": "[encoded data removed]",
      "text/plain": [
       "<Figure size 432x288 with 1 Axes>"
      ]
     },
     "metadata": {
      "needs_background": "light"
     },
     "output_type": "display_data"
    }
   ],
   "source": [
    "plot_res_dist(y_train, y_train_pred)"
   ]
  },
  {
   "cell_type": "markdown",
   "id": "2c4ba113",
   "metadata": {},
   "source": [
    "#### `Inference`    \n",
    "    - Errors are normally distribured here with mean 0. So everything seems to be fine"
   ]
  },
  {
   "cell_type": "code",
   "execution_count": 60,
   "id": "8441b025",
   "metadata": {},
   "outputs": [
    {
     "data": {
      "text/plain": [
       "0.8158045196281631"
      ]
     },
     "execution_count": 60,
     "metadata": {},
     "output_type": "execute_result"
    }
   ],
   "source": [
    "#Print R-squared Value\n",
    "\n",
    "r2_score(y_train,y_train_pred)"
   ]
  },
  {
   "cell_type": "markdown",
   "id": "2cbf9185",
   "metadata": {},
   "source": [
    "#### `Inference`    \n",
    "    - R2 Same as we obtained for our final model"
   ]
  },
  {
   "cell_type": "markdown",
   "id": "ec939130",
   "metadata": {},
   "source": [
    "### 8.4.2 `Linearity Check`"
   ]
  },
  {
   "cell_type": "code",
   "execution_count": 61,
   "id": "1d999a26",
   "metadata": {},
   "outputs": [
    {
     "data": {
      "image/png": "[encoded data removed]",
      "text/plain": [
       "<Figure size 432x288 with 1 Axes>"
      ]
     },
     "metadata": {
      "needs_background": "light"
     },
     "output_type": "display_data"
    }
   ],
   "source": [
    "# scatter plot for the check\n",
    "\n",
    "residual = (y_train - y_train_pred)\n",
    "sns.regplot(y_train,residual, line_kws={\"color\": \"red\"})\n",
    "plt.ylabel(\"y_train\")\n",
    "plt.xlabel(\"Residual\")\n",
    "plt.show()"
   ]
  },
  {
   "cell_type": "markdown",
   "id": "713ef618",
   "metadata": {},
   "source": [
    "### 8.4.2 ` Predict values for test data set`"
   ]
  },
  {
   "cell_type": "code",
   "execution_count": 62,
   "id": "dac65a3b",
   "metadata": {},
   "outputs": [],
   "source": [
    "# Scale variables in X_test\n",
    "\n",
    "num_vars = ['temp','hum','windspeed']\n",
    "\n",
    "# Test data to be transformed only, no fitting\n",
    "\n",
    "X_test[num_vars] = scaler.transform(X_test[num_vars])"
   ]
  },
  {
   "cell_type": "code",
   "execution_count": 63,
   "id": "478e180a",
   "metadata": {},
   "outputs": [],
   "source": [
    "# Columns from our final model\n",
    "\n",
    "cols = ['yr', 'season_spring', 'mnth_jul',\n",
    "        'season_winter', 'mnth_sept', 'weekday_sun',\n",
    "       'weathersit_bad', 'weathersit_moderate', 'temp']\n",
    "\n",
    "# Predict the values for test data\n",
    "\n",
    "y_test_pred = lr.predict(X_test[cols])"
   ]
  },
  {
   "cell_type": "markdown",
   "id": "ca7d52d5",
   "metadata": {},
   "source": [
    "### 8.4.3 ` R squared value between test and predicted test datasets`"
   ]
  },
  {
   "cell_type": "code",
   "execution_count": 64,
   "id": "f93ceece",
   "metadata": {},
   "outputs": [
    {
     "data": {
      "text/plain": [
       "0.8127228702995222"
      ]
     },
     "execution_count": 64,
     "metadata": {},
     "output_type": "execute_result"
    }
   ],
   "source": [
    "# Find out the R squared value between test and predicted test data sets.  \n",
    "\n",
    "r2_score(y_test,y_test_pred)"
   ]
  },
  {
   "cell_type": "markdown",
   "id": "6d61fb37",
   "metadata": {},
   "source": [
    "# 9. Interepretation of the Model"
   ]
  },
  {
   "cell_type": "code",
   "execution_count": 65,
   "id": "812039a4",
   "metadata": {},
   "outputs": [
    {
     "name": "stdout",
     "output_type": "stream",
     "text": [
      "                            OLS Regression Results                            \n",
      "==============================================================================\n",
      "Dep. Variable:                    cnt   R-squared:                       0.816\n",
      "Model:                            OLS   Adj. R-squared:                  0.812\n",
      "Method:                 Least Squares   F-statistic:                     246.5\n",
      "Date:                Tue, 12 Jul 2022   Prob (F-statistic):          9.73e-178\n",
      "Time:                        21:37:05   Log-Likelihood:                -4160.4\n",
      "No. Observations:                 511   AIC:                             8341.\n",
      "Df Residuals:                     501   BIC:                             8383.\n",
      "Df Model:                           9                                         \n",
      "Covariance Type:            nonrobust                                         \n",
      "=======================================================================================\n",
      "                          coef    std err          t      P>|t|      [0.025      0.975]\n",
      "---------------------------------------------------------------------------------------\n",
      "const                1740.7372    205.338      8.477      0.000    1337.308    2144.167\n",
      "yr                   1994.6796     74.789     26.671      0.000    1847.740    2141.619\n",
      "season_spring       -1167.7009    145.664     -8.016      0.000   -1453.888    -881.514\n",
      "mnth_jul             -514.6318    148.396     -3.468      0.001    -806.187    -223.077\n",
      "season_winter         496.7543    111.027      4.474      0.000     278.618     714.891\n",
      "mnth_sept             465.9273    136.312      3.418      0.001     198.115     733.740\n",
      "weekday_sun           190.3752    109.596      1.737      0.083     -24.949     405.699\n",
      "weathersit_bad      -2256.1048    223.984    -10.073      0.000   -2696.168   -1816.042\n",
      "weathersit_moderate  -662.3899     79.266     -8.357      0.000    -818.125    -506.655\n",
      "temp                 3984.2556    286.305     13.916      0.000    3421.749    4546.762\n",
      "==============================================================================\n",
      "Omnibus:                       69.811   Durbin-Watson:                   2.162\n",
      "Prob(Omnibus):                  0.000   Jarque-Bera (JB):              135.943\n",
      "Skew:                          -0.786   Prob(JB):                     3.02e-30\n",
      "Kurtosis:                       4.978   Cond. No.                         14.0\n",
      "==============================================================================\n",
      "\n",
      "Notes:\n",
      "[1] Standard Errors assume that the covariance matrix of the errors is correctly specified.\n"
     ]
    }
   ],
   "source": [
    "# final model of manual + rfe approach using statsmodel to interpret it\n",
    "\n",
    "cols = ['yr', 'season_spring', 'mnth_jul',\n",
    "        'season_winter', 'mnth_sept', 'weekday_sun',\n",
    "       'weathersit_bad', 'weathersit_moderate', 'temp']\n",
    "lm = model(cols)"
   ]
  },
  {
   "cell_type": "markdown",
   "id": "b42d8327",
   "metadata": {},
   "source": [
    "### ` Interepretation Result`"
   ]
  },
  {
   "cell_type": "markdown",
   "id": "7f4e2010",
   "metadata": {},
   "source": [
    "#### The comapany should focus on the following features:\n",
    "    1. Company should focus on expanding business during Spring.\n",
    "    2. Company should focus on expanding business during September.\n",
    "    3. Based on previous data it is expected to have a boom in number of users once situation comes back to normal, compared to 2019.\n",
    "    4. There would be less bookings during Light Snow or Rain, they could probably use this time to serive the bikes without having business impact. Hence when the situation comes back to normal, the company should come up with new offers during spring when the weather is pleasant and also advertise a little for September as this is when business would be at its best."
   ]
  },
  {
   "cell_type": "code",
   "execution_count": null,
   "id": "4eb7887f",
   "metadata": {},
   "outputs": [],
   "source": []
  }
 ],
 "metadata": {
  "kernelspec": {
   "display_name": "Python 3 (ipykernel)",
   "language": "python",
   "name": "python3"
  },
  "language_info": {
   "codemirror_mode": {
    "name": "ipython",
    "version": 3
   },
   "file_extension": ".py",
   "mimetype": "text/x-python",
   "name": "python",
   "nbconvert_exporter": "python",
   "pygments_lexer": "ipython3",
   "version": "3.9.7"
  }
 },
 "nbformat": 4,
 "nbformat_minor": 5
}
